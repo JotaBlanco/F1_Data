{
  "nbformat": 4,
  "nbformat_minor": 0,
  "metadata": {
    "colab": {
      "name": "F1_Lapping.ipynb",
      "provenance": [],
      "toc_visible": true,
      "authorship_tag": "ABX9TyOi2xAX7zrzmOvStZ3mKup0",
      "include_colab_link": true
    },
    "kernelspec": {
      "name": "python3",
      "display_name": "Python 3"
    }
  },
  "cells": [
    {
      "cell_type": "markdown",
      "metadata": {
        "id": "view-in-github",
        "colab_type": "text"
      },
      "source": [
        "<a href=\"https://colab.research.google.com/github/JotaBlanco/F1_Data/blob/main/F1_Lapping.ipynb\" target=\"_parent\"><img src=\"https://colab.research.google.com/assets/colab-badge.svg\" alt=\"Open In Colab\"/></a>"
      ]
    },
    {
      "cell_type": "markdown",
      "metadata": {
        "id": "LSuEDXhPLi8u"
      },
      "source": [
        "# Predict Lapping\r\n",
        "Based on periodicity of data, guess if a car is lapping and if so, predict when is next braking event happening."
      ]
    },
    {
      "cell_type": "markdown",
      "metadata": {
        "id": "cnHRaho3rsXS"
      },
      "source": [
        "## Import"
      ]
    },
    {
      "cell_type": "code",
      "metadata": {
        "id": "4be6xiUqjPHI"
      },
      "source": [
        "import pandas as pd\r\n",
        "import numpy as np\r\n",
        "import matplotlib.pyplot as plt\r\n",
        "import seaborn as sns"
      ],
      "execution_count": 2,
      "outputs": []
    },
    {
      "cell_type": "markdown",
      "metadata": {
        "id": "AblkT14d4Gvt"
      },
      "source": [
        "## 0103 Load Datasets\r\n",
        "Data can be found ([here](https://github.com/MrPranz/F1-Telemetry)). "
      ]
    },
    {
      "cell_type": "code",
      "metadata": {
        "id": "uM_xgde6I70s"
      },
      "source": [
        "import csv\r\n",
        "import numpy as np\r\n",
        "\r\n",
        "def processtelemetry(csvfile,thrcut=1,brkcut=1,tb=False):\r\n",
        "\t# inputs:\r\n",
        "\t# csvfile = csv file as string\r\n",
        "\t# thrcut = normalised cut off value for throttle data. Sets this value as the max instead of the true max.\r\n",
        "\t# brkcut = normalised cut off value for brake data. Sets this value as the max instead of the true max.\r\n",
        "\t# tb = True if csv file has throttle/brake data, boolean.\r\n",
        "\r\n",
        "\t# outputs: \r\n",
        "\t# v = 1d array of velocity\r\n",
        "\t# f = 1d array of time\r\n",
        "\t# d = 1d array of distance\r\n",
        "\t# [dtb,thr,brk] = array of 3x1d arrays of distance, throttle, and brake\r\n",
        "\r\n",
        "\t# read csv file\r\n",
        "\twith open(csvfile,'r') as file:\r\n",
        "\t\treader = csv.reader(file)\r\n",
        "\t\tv_ocr,t_ocr,thr_ocr,brk_ocr = list(reader)\r\n",
        "\r\n",
        "\tv_all = []\r\n",
        "\tt_all = []\r\n",
        "\tthr_all = []\r\n",
        "\tbrk_all = []\r\n",
        "\r\n",
        "\t# since the raw output from ocr is not always numeric, its converted to floats here where possible\r\n",
        "\tfor j in range(0,len(v_ocr),1):\r\n",
        "\t\ttry:\r\n",
        "\t\t\tvj = [float(v_ocr[j])]\r\n",
        "\t\t\ttj = [float(t_ocr[j])]\r\n",
        "\t\texcept ValueError:\r\n",
        "\t\t\tvj = [-1]\r\n",
        "\t\t\ttj = [t_ocr[j]]\r\n",
        "\t\tv_all = v_all + vj\r\n",
        "\t\tt_all = t_all + tj\r\n",
        "\t\tif tb == True:\r\n",
        "\t\t\ttry:\r\n",
        "\t\t\t\tthr_all = thr_all + [thr_ocr[j]]\r\n",
        "\t\t\t\tbrk_all = brk_all + [brk_ocr[j]]\r\n",
        "\t\t\texcept IndexError:\r\n",
        "\t\t\t\tpass\r\n",
        "\r\n",
        "\t# find and remove odd speed values\r\n",
        "\tkidx = []\r\n",
        "\tfor k in range(len(v_all)):\r\n",
        "\t\tif v_all[k] == -1 or v_all[k] > 400 or v_all[k] < 30:\r\n",
        "\t\t\tkidx = kidx + [k]\r\n",
        "\tvc1 = np.delete(v_all,kidx)\r\n",
        "\ttc1 = np.delete(t_all,kidx)\r\n",
        "\tthr = np.delete(thr_all,kidx).astype(float)\r\n",
        "\tbrk = np.delete(brk_all,kidx).astype(float)\r\n",
        "\tv,t = vc1,tc1\r\n",
        "\r\n",
        "\t# create distance array for throttle and brake traces\r\n",
        "\tdtb = np.array([0])\r\n",
        "\ttc1 = tc1.astype(float)\r\n",
        "\tfor s in range(0,len(vc1)-1):\r\n",
        "\t\tdtbi = (vc1[s]+vc1[s+1])*(tc1[s+1]-tc1[s])*0.5/3.6\r\n",
        "\t\tdtb = np.append(dtb,dtbi+dtb[s])\r\n",
        "\r\n",
        "\t# create distance array for velocity trace\r\n",
        "\td = np.array([0])\r\n",
        "\tt = t.astype(float)\r\n",
        "\tfor n in range(len(v)-1):\r\n",
        "\t\tdi = (v[n]+v[n+1])*(t[n+1]-t[n])*0.5/3.6\r\n",
        "\t\td = np.append(d,di+d[n]) \r\n",
        "\r\n",
        "\t# Since the throttle and brake data is the pixel count, these are normalised and converted. \r\n",
        "\t# Pixel counts can vary a lot so thrcut and brkcut serve to fix this. For thrcut, it also serves\r\n",
        "\t# to remove the DRS addition of green pixels. \r\n",
        "\tif tb:\r\n",
        "\t\tthrmax = max(np.extract(thr < thrcut*max(thr),thr))\r\n",
        "\t\tbrkmax = max(np.extract(brk < brkcut*max(brk),brk))\r\n",
        "\r\n",
        "\t\tfor i in range(len(thr)):\r\n",
        "\t\t\tif thr[i] > thrmax:\r\n",
        "\t\t\t\tthr[i] = thrmax\r\n",
        "\t\t\tif brk[i] > brkmax:\r\n",
        "\t\t\t\tbrk[i] = brkmax \r\n",
        "\t\t\tif brk[i] < 0.75*brkmax:\r\n",
        "\t\t\t\tbrk[i] = 0\r\n",
        "\t\tthr = thr*(100/max(thr))\r\n",
        "\t\tbrk = brk*(1/max(brk))\r\n",
        "\r\n",
        "\t\t# this next bit transforms the throttle curve past 30% throttle to account for the white text in the graphic.\r\n",
        "\t\tl1,l2 = 30,30\r\n",
        "\t\tu1,u2 = 60,67\r\n",
        "\t\tv1,v2 = 100,100\r\n",
        "\t\tk1,k2 = u1,u2\r\n",
        "\r\n",
        "\t\tr = (k2-v1)/(k1-v1)\r\n",
        "\t\ts = (u2-l1)/(u1-l1)\r\n",
        "\r\n",
        "\t\tfor i2 in range(len(thr)):\r\n",
        "\t\t\tif thr[i2] > l1 and thr[i2] < u1:\r\n",
        "\t\t\t\tthr[i2] = s*(thr[i2]-l1) + l1\r\n",
        "\t\t\telif thr[i2] > k1:\r\n",
        "\t\t\t\tthr[i2] = r*(thr[i2]-v1) + v1\r\n",
        "\telse:\r\n",
        "\t\tpass\r\n",
        "\r\n",
        "\tdtot = str(max(d))\r\n",
        "\tprint(csvfile[0:-4],\"completed. Distance =\",dtot[0:6]+'m',\",Time =\",max(t),'seconds')\r\n",
        "\tf = t\r\n",
        "\r\n",
        "\treturn v,f,d,[dtb,thr,brk]\r\n",
        "\r\n",
        "# dictionary of parameters for each lap\r\n",
        "params = {\r\n",
        "\t\t'AUS':\r\n",
        "\t\t\t{},\r\n",
        "\t\t'CHI':\r\n",
        "\t\t\t{},\r\n",
        "\t\t'BAH':\r\n",
        "\t\t\t{},\r\n",
        "\t\t'RUS':\r\n",
        "\t\t\t{},\r\n",
        "\t\t'SPA':\r\n",
        "\t\t\t{'num':5,'length':4655,'title':'F1 2017 R05 Spain - Circuit de Catalunya',\r\n",
        "\t\t\t'HAM':{'thr':0.7,'brk':0.75,'tb':True,'label':'Hamilton: 01.19.149','colour':'c'},\r\n",
        "\t\t\t'BOT':{'thr':0.66,'brk':0.5,'tb':True,'label':'Bottas: 01.19.390','colour':'#005656'},\r\n",
        "\t\t\t'VET':{'thr':1,'brk':1,'tb':True,'label':'Vettel: 01.19.200','colour':'r'},\r\n",
        "\t\t\t'VER':{'thr':1,'brk':1,'tb':False,'label':'Verstappen: 01.19.706','colour':'#440044'},\r\n",
        "\t\t\t'ALO':{'thr':1,'brk':1,'tb':False,'label':'Alonso: 01.21.076','colour':'#ff8200'}},\r\n",
        "\t\t'MON':\r\n",
        "\t\t\t{'num':6,'length':3337,'title':'F1 2017 R06 Monaco - Circuit de Monaco',\r\n",
        "\t\t\t'RAI':{'thr':1,'brk':1,'tb':False,'label':'Raikkonen: 01.12.178','colour':'r'},\r\n",
        "\t\t\t'VET':{'thr':0.7,'brk':0.05,'tb':True,'label':'Vettel: 01.12.221','colour':'#960000'},\r\n",
        "\t\t\t'BOT':{'thr':0.925,'brk':0.1,'tb':True,'label':'Bottas: 01.12.559','colour':'c'},\r\n",
        "\t\t\t'VER':{'thr':1,'brk':1,'tb':False,'label':'Verstappen: 01.12.496','colour':'#690069'},\r\n",
        "\t\t\t'RIC':{'thr':1,'brk':1,'tb':False,'label':'Ricciardo: 01.13.094','colour':'#ec00ec'},\r\n",
        "\t\t\t'BUT':{'thr':1,'brk':1,'tb':False,'label':'Button: 01.13.613','colour':'#ff9500'}},\r\n",
        "\t\t'CAN':\r\n",
        "\t\t\t{'num':7,'length':4361,'title':'F1 2017 R07 Canada - Circuit Gilles Villeneuve',\r\n",
        "\t\t\t'HAM':{'thr':1,'brk':1,'pass':0,'tb':False,'label':'Hamilton: 01.11.459','colour':'c'},\r\n",
        "\t\t\t'VET':{'thr':1,'brk':1,'pass':0,'tb':False,'label':'Vettel: 01.11.789','colour':'r'},\r\n",
        "\t\t\t'VER':{'thr':1,'brk':1,'pass':0,'tb':False,'label':'Verstappen: 01.12.403','colour':'#690069'},\r\n",
        "\t\t\t'PER':{'thr':1,'brk':1,'pass':0,'tb':False,'label':'Perez: 01.13.018','colour':'#ff70ff'},\r\n",
        "\t\t\t'ALO':{'thr':1,'brk':1,'pass':0,'tb':False,'label':'Alonso: 01.13.693','colour':'#ff9500'}},\r\n",
        "\t\t'AZE':\r\n",
        "\t\t\t{'num':8,'length':6003,'title':'F1 2017 R08 Azerbaijan - Baku City Circuit',\r\n",
        "\t\t\t'HAM':{'thr':1,'brk':1,'pass':0,'tb':False,'label':'Hamilton: 01.40.593','colour':'c'},\r\n",
        "\t\t\t'BOT':{'thr':1,'brk':1,'pass':0,'tb':False,'label':'Bottas: 01.41.027','colour':'#005656'},\r\n",
        "\t\t\t'RAI':{'thr':1,'brk':1,'pass':0,'tb':False,'label':'Raikkonen: 01.41.693','colour':'r'},\r\n",
        "\t\t\t'VET':{'thr':1,'brk':1,'pass':0,'tb':False,'label':'Vettel: 01.41.841','colour':'#960000'},\r\n",
        "\t\t\t'VER':{'thr':1,'brk':1,'pass':0,'tb':False,'label':'Verstappen: 01.41.879','colour':'#690069'}},\r\n",
        "\t\t}"
      ],
      "execution_count": 19,
      "outputs": []
    },
    {
      "cell_type": "code",
      "metadata": {
        "id": "GMZACcIXOclu"
      },
      "source": [
        "# Url archivo raw\r\n",
        "url = 'https://raw.githubusercontent.com/MrPranz/F1-Telemetry/master/10_GBR_GP/2017_gbr_ham.csv'\r\n",
        "url = 'https://raw.githubusercontent.com/MrPranz/F1-Telemetry/master/10_GBR_GP/2017_gbr_ham16.csv'\r\n",
        "file_name = url.split(\"/\")[-1]\r\n",
        "\r\n",
        "# Importa csv\r\n",
        "df = pd.read_csv(url)\r\n",
        "\r\n",
        "# Visualización primeras filas\r\n",
        "df.to_csv(file_name, index=False)"
      ],
      "execution_count": 79,
      "outputs": []
    },
    {
      "cell_type": "code",
      "metadata": {
        "colab": {
          "base_uri": "https://localhost:8080/",
          "height": 191
        },
        "id": "ULcuCOuhMD4M",
        "outputId": "3e7cfd35-3914-44d4-f6ec-c79540bda961"
      },
      "source": [
        "df.head()"
      ],
      "execution_count": 76,
      "outputs": [
        {
          "output_type": "execute_result",
          "data": {
            "text/html": [
              "<div>\n",
              "<style scoped>\n",
              "    .dataframe tbody tr th:only-of-type {\n",
              "        vertical-align: middle;\n",
              "    }\n",
              "\n",
              "    .dataframe tbody tr th {\n",
              "        vertical-align: top;\n",
              "    }\n",
              "\n",
              "    .dataframe thead th {\n",
              "        text-align: right;\n",
              "    }\n",
              "</style>\n",
              "<table border=\"1\" class=\"dataframe\">\n",
              "  <thead>\n",
              "    <tr style=\"text-align: right;\">\n",
              "      <th></th>\n",
              "      <th>254</th>\n",
              "      <th>254.1</th>\n",
              "      <th>259</th>\n",
              "      <th>259.1</th>\n",
              "      <th>259.2</th>\n",
              "      <th>259.3</th>\n",
              "      <th>259.4</th>\n",
              "      <th>259.5</th>\n",
              "      <th>259.6</th>\n",
              "      <th>259.7</th>\n",
              "      <th>259.8</th>\n",
              "      <th>259.9</th>\n",
              "      <th>259.10</th>\n",
              "      <th>259.11</th>\n",
              "      <th>259.12</th>\n",
              "      <th>259.13</th>\n",
              "      <th>259.14</th>\n",
              "      <th>259.15</th>\n",
              "      <th>259.16</th>\n",
              "      <th>259.17</th>\n",
              "      <th>259.18</th>\n",
              "      <th>266</th>\n",
              "      <th>266.1</th>\n",
              "      <th>266.2</th>\n",
              "      <th>266.3</th>\n",
              "      <th>266.4</th>\n",
              "      <th>266.5</th>\n",
              "      <th>268</th>\n",
              "      <th>268.1</th>\n",
              "      <th>268.2</th>\n",
              "      <th>268.3</th>\n",
              "      <th>268.4</th>\n",
              "      <th>268.5</th>\n",
              "      <th>268.6</th>\n",
              "      <th>268.7</th>\n",
              "      <th>270</th>\n",
              "      <th>270.1</th>\n",
              "      <th>270.2</th>\n",
              "      <th>270.3</th>\n",
              "      <th>270.4</th>\n",
              "      <th>...</th>\n",
              "      <th>240.4</th>\n",
              "      <th>240.5</th>\n",
              "      <th>240.6</th>\n",
              "      <th>240.7</th>\n",
              "      <th>241.19</th>\n",
              "      <th>241.20</th>\n",
              "      <th>241.21</th>\n",
              "      <th>241.22</th>\n",
              "      <th>241.23</th>\n",
              "      <th>241.24</th>\n",
              "      <th>241.25</th>\n",
              "      <th>244</th>\n",
              "      <th>244.1</th>\n",
              "      <th>244.2</th>\n",
              "      <th>244.3</th>\n",
              "      <th>244.4</th>\n",
              "      <th>244.5</th>\n",
              "      <th>244.6</th>\n",
              "      <th>244.7</th>\n",
              "      <th>244.8</th>\n",
              "      <th>244.9</th>\n",
              "      <th>244.10</th>\n",
              "      <th>244.11</th>\n",
              "      <th>244.12</th>\n",
              "      <th>244.13</th>\n",
              "      <th>244.14</th>\n",
              "      <th>244.15</th>\n",
              "      <th>244.16</th>\n",
              "      <th>244.17</th>\n",
              "      <th>244.18</th>\n",
              "      <th>244.19</th>\n",
              "      <th>244.20</th>\n",
              "      <th>244.21</th>\n",
              "      <th>244.22</th>\n",
              "      <th>244.23</th>\n",
              "      <th>244.24</th>\n",
              "      <th>244.25</th>\n",
              "      <th>244.26</th>\n",
              "      <th>244.27</th>\n",
              "      <th>244.28</th>\n",
              "    </tr>\n",
              "  </thead>\n",
              "  <tbody>\n",
              "    <tr>\n",
              "      <th>0</th>\n",
              "      <td>0.0</td>\n",
              "      <td>0.02</td>\n",
              "      <td>0.04</td>\n",
              "      <td>0.06</td>\n",
              "      <td>0.08</td>\n",
              "      <td>0.1</td>\n",
              "      <td>0.12</td>\n",
              "      <td>0.14</td>\n",
              "      <td>0.16</td>\n",
              "      <td>0.18</td>\n",
              "      <td>0.2</td>\n",
              "      <td>0.22</td>\n",
              "      <td>0.24</td>\n",
              "      <td>0.26</td>\n",
              "      <td>0.28</td>\n",
              "      <td>0.3</td>\n",
              "      <td>0.32</td>\n",
              "      <td>0.34</td>\n",
              "      <td>0.36</td>\n",
              "      <td>0.38</td>\n",
              "      <td>0.4</td>\n",
              "      <td>0.42</td>\n",
              "      <td>0.44</td>\n",
              "      <td>0.46</td>\n",
              "      <td>0.48</td>\n",
              "      <td>0.5</td>\n",
              "      <td>0.52</td>\n",
              "      <td>0.54</td>\n",
              "      <td>0.56</td>\n",
              "      <td>0.58</td>\n",
              "      <td>0.6</td>\n",
              "      <td>0.62</td>\n",
              "      <td>0.64</td>\n",
              "      <td>0.66</td>\n",
              "      <td>0.68</td>\n",
              "      <td>0.7</td>\n",
              "      <td>0.72</td>\n",
              "      <td>0.74</td>\n",
              "      <td>0.76</td>\n",
              "      <td>0.78</td>\n",
              "      <td>...</td>\n",
              "      <td>85.82</td>\n",
              "      <td>85.84</td>\n",
              "      <td>85.86</td>\n",
              "      <td>85.88</td>\n",
              "      <td>85.9</td>\n",
              "      <td>85.92</td>\n",
              "      <td>85.94</td>\n",
              "      <td>85.96</td>\n",
              "      <td>85.98</td>\n",
              "      <td>86.0</td>\n",
              "      <td>86.02</td>\n",
              "      <td>86.04</td>\n",
              "      <td>86.06</td>\n",
              "      <td>86.08</td>\n",
              "      <td>86.1</td>\n",
              "      <td>86.12</td>\n",
              "      <td>86.14</td>\n",
              "      <td>86.16</td>\n",
              "      <td>86.18</td>\n",
              "      <td>86.2</td>\n",
              "      <td>86.22</td>\n",
              "      <td>86.24</td>\n",
              "      <td>86.26</td>\n",
              "      <td>86.28</td>\n",
              "      <td>86.3</td>\n",
              "      <td>86.32</td>\n",
              "      <td>86.34</td>\n",
              "      <td>86.36</td>\n",
              "      <td>86.38</td>\n",
              "      <td>86.4</td>\n",
              "      <td>86.42</td>\n",
              "      <td>86.44</td>\n",
              "      <td>86.46</td>\n",
              "      <td>86.48</td>\n",
              "      <td>86.5</td>\n",
              "      <td>86.52</td>\n",
              "      <td>86.54</td>\n",
              "      <td>86.56</td>\n",
              "      <td>86.58</td>\n",
              "      <td>86.6</td>\n",
              "    </tr>\n",
              "    <tr>\n",
              "      <th>1</th>\n",
              "      <td>4704.0</td>\n",
              "      <td>4675.00</td>\n",
              "      <td>4621.00</td>\n",
              "      <td>4603.00</td>\n",
              "      <td>4683.00</td>\n",
              "      <td>4662.0</td>\n",
              "      <td>4641.00</td>\n",
              "      <td>4638.00</td>\n",
              "      <td>4711.00</td>\n",
              "      <td>4709.00</td>\n",
              "      <td>4636.0</td>\n",
              "      <td>4671.00</td>\n",
              "      <td>4706.00</td>\n",
              "      <td>4641.00</td>\n",
              "      <td>4561.00</td>\n",
              "      <td>4700.0</td>\n",
              "      <td>4642.00</td>\n",
              "      <td>4583.00</td>\n",
              "      <td>4748.00</td>\n",
              "      <td>4729.00</td>\n",
              "      <td>4563.0</td>\n",
              "      <td>4580.00</td>\n",
              "      <td>4719.00</td>\n",
              "      <td>4563.00</td>\n",
              "      <td>4537.00</td>\n",
              "      <td>4750.0</td>\n",
              "      <td>4677.00</td>\n",
              "      <td>4721.00</td>\n",
              "      <td>4727.00</td>\n",
              "      <td>4642.00</td>\n",
              "      <td>4688.0</td>\n",
              "      <td>4714.00</td>\n",
              "      <td>4596.00</td>\n",
              "      <td>4704.00</td>\n",
              "      <td>4675.00</td>\n",
              "      <td>4621.0</td>\n",
              "      <td>4603.00</td>\n",
              "      <td>4683.00</td>\n",
              "      <td>4662.00</td>\n",
              "      <td>4641.00</td>\n",
              "      <td>...</td>\n",
              "      <td>4585.00</td>\n",
              "      <td>4607.00</td>\n",
              "      <td>4606.00</td>\n",
              "      <td>4580.00</td>\n",
              "      <td>4563.0</td>\n",
              "      <td>4579.00</td>\n",
              "      <td>4609.00</td>\n",
              "      <td>4584.00</td>\n",
              "      <td>4588.00</td>\n",
              "      <td>4562.0</td>\n",
              "      <td>4599.00</td>\n",
              "      <td>4617.00</td>\n",
              "      <td>4614.00</td>\n",
              "      <td>4613.00</td>\n",
              "      <td>4616.0</td>\n",
              "      <td>4609.00</td>\n",
              "      <td>4599.00</td>\n",
              "      <td>4587.00</td>\n",
              "      <td>4599.00</td>\n",
              "      <td>4584.0</td>\n",
              "      <td>4556.00</td>\n",
              "      <td>4592.00</td>\n",
              "      <td>4584.00</td>\n",
              "      <td>4573.00</td>\n",
              "      <td>4610.0</td>\n",
              "      <td>4592.00</td>\n",
              "      <td>4613.00</td>\n",
              "      <td>4609.00</td>\n",
              "      <td>4612.00</td>\n",
              "      <td>4605.0</td>\n",
              "      <td>4596.00</td>\n",
              "      <td>4588.00</td>\n",
              "      <td>4603.00</td>\n",
              "      <td>4592.00</td>\n",
              "      <td>4602.0</td>\n",
              "      <td>4627.00</td>\n",
              "      <td>4629.00</td>\n",
              "      <td>4621.00</td>\n",
              "      <td>4631.00</td>\n",
              "      <td>4633.0</td>\n",
              "    </tr>\n",
              "    <tr>\n",
              "      <th>2</th>\n",
              "      <td>0.0</td>\n",
              "      <td>0.00</td>\n",
              "      <td>0.00</td>\n",
              "      <td>0.00</td>\n",
              "      <td>0.00</td>\n",
              "      <td>0.0</td>\n",
              "      <td>0.00</td>\n",
              "      <td>0.00</td>\n",
              "      <td>0.00</td>\n",
              "      <td>0.00</td>\n",
              "      <td>0.0</td>\n",
              "      <td>0.00</td>\n",
              "      <td>0.00</td>\n",
              "      <td>0.00</td>\n",
              "      <td>0.00</td>\n",
              "      <td>0.0</td>\n",
              "      <td>0.00</td>\n",
              "      <td>0.00</td>\n",
              "      <td>0.00</td>\n",
              "      <td>0.00</td>\n",
              "      <td>0.0</td>\n",
              "      <td>0.00</td>\n",
              "      <td>0.00</td>\n",
              "      <td>0.00</td>\n",
              "      <td>0.00</td>\n",
              "      <td>0.0</td>\n",
              "      <td>0.00</td>\n",
              "      <td>0.00</td>\n",
              "      <td>0.00</td>\n",
              "      <td>0.00</td>\n",
              "      <td>0.0</td>\n",
              "      <td>0.00</td>\n",
              "      <td>0.00</td>\n",
              "      <td>0.00</td>\n",
              "      <td>0.00</td>\n",
              "      <td>0.0</td>\n",
              "      <td>0.00</td>\n",
              "      <td>0.00</td>\n",
              "      <td>0.00</td>\n",
              "      <td>0.00</td>\n",
              "      <td>...</td>\n",
              "      <td>0.00</td>\n",
              "      <td>0.00</td>\n",
              "      <td>0.00</td>\n",
              "      <td>0.00</td>\n",
              "      <td>0.0</td>\n",
              "      <td>0.00</td>\n",
              "      <td>0.00</td>\n",
              "      <td>0.00</td>\n",
              "      <td>0.00</td>\n",
              "      <td>0.0</td>\n",
              "      <td>0.00</td>\n",
              "      <td>0.00</td>\n",
              "      <td>0.00</td>\n",
              "      <td>0.00</td>\n",
              "      <td>0.0</td>\n",
              "      <td>0.00</td>\n",
              "      <td>0.00</td>\n",
              "      <td>0.00</td>\n",
              "      <td>0.00</td>\n",
              "      <td>0.0</td>\n",
              "      <td>0.00</td>\n",
              "      <td>0.00</td>\n",
              "      <td>0.00</td>\n",
              "      <td>0.00</td>\n",
              "      <td>0.0</td>\n",
              "      <td>0.00</td>\n",
              "      <td>0.00</td>\n",
              "      <td>0.00</td>\n",
              "      <td>0.00</td>\n",
              "      <td>0.0</td>\n",
              "      <td>0.00</td>\n",
              "      <td>0.00</td>\n",
              "      <td>0.00</td>\n",
              "      <td>0.00</td>\n",
              "      <td>0.0</td>\n",
              "      <td>0.00</td>\n",
              "      <td>0.00</td>\n",
              "      <td>0.00</td>\n",
              "      <td>0.00</td>\n",
              "      <td>0.0</td>\n",
              "    </tr>\n",
              "  </tbody>\n",
              "</table>\n",
              "<p>3 rows × 4331 columns</p>\n",
              "</div>"
            ],
            "text/plain": [
              "      254    254.1      259    259.1  ...   244.25   244.26   244.27  244.28\n",
              "0     0.0     0.02     0.04     0.06  ...    86.54    86.56    86.58    86.6\n",
              "1  4704.0  4675.00  4621.00  4603.00  ...  4629.00  4621.00  4631.00  4633.0\n",
              "2     0.0     0.00     0.00     0.00  ...     0.00     0.00     0.00     0.0\n",
              "\n",
              "[3 rows x 4331 columns]"
            ]
          },
          "metadata": {
            "tags": []
          },
          "execution_count": 76
        }
      ]
    },
    {
      "cell_type": "code",
      "metadata": {
        "colab": {
          "base_uri": "https://localhost:8080/"
        },
        "id": "t-2hd5oULXAh",
        "outputId": "fa62eb23-c936-4af4-bb82-0230d9ca4af7"
      },
      "source": [
        "v,f,d,[dtb,thr,brk] = processtelemetry(file_name,thrcut=1,brkcut=1,tb=True)"
      ],
      "execution_count": 81,
      "outputs": [
        {
          "output_type": "stream",
          "text": [
            "2017_gbr_ham16 completed. Distance = 5830.8m ,Time = 89.34 seconds\n"
          ],
          "name": "stdout"
        }
      ]
    },
    {
      "cell_type": "code",
      "metadata": {
        "id": "Mi5dFzxANNfS"
      },
      "source": [
        "df_ham = pd.DataFrame({'Speed': v, \r\n",
        "                       'Time': f, \r\n",
        "                       'Distance': d})"
      ],
      "execution_count": 77,
      "outputs": []
    },
    {
      "cell_type": "code",
      "metadata": {
        "id": "aYxnhgT2Nz5-"
      },
      "source": [
        "df_ham_2 = pd.DataFrame({'Speed': v, \r\n",
        "                       'Time': f, \r\n",
        "                       'Distance': d})"
      ],
      "execution_count": 82,
      "outputs": []
    },
    {
      "cell_type": "code",
      "metadata": {
        "colab": {
          "base_uri": "https://localhost:8080/",
          "height": 265
        },
        "id": "lZaIe8yQMsrY",
        "outputId": "dabf14a9-a96f-4d69-9b78-e93e40d07a59"
      },
      "source": [
        "plt.plot(df_ham['Speed'])\r\n",
        "plt.plot(df_ham_2['Speed'])\r\n",
        "plt.show()"
      ],
      "execution_count": 83,
      "outputs": [
        {
          "output_type": "display_data",
          "data": {
            "image/png": "[encoded data removed]",
            "text/plain": [
              "<Figure size 432x288 with 1 Axes>"
            ]
          },
          "metadata": {
            "tags": [],
            "needs_background": "light"
          }
        }
      ]
    },
    {
      "cell_type": "markdown",
      "metadata": {
        "id": "MoSBfpWNOwnN"
      },
      "source": [
        "# Check patterns"
      ]
    },
    {
      "cell_type": "code",
      "metadata": {
        "colab": {
          "base_uri": "https://localhost:8080/",
          "height": 1000
        },
        "id": "uM9qfCWHMs6a",
        "outputId": "b753a17d-ba95-4270-867e-ff1ee22ed46d"
      },
      "source": [
        "interval = 5\r\n",
        "\r\n",
        "df_ham['Acc'] = ((df_ham['Speed']-\r\n",
        "                  df_ham['Speed'].shift(interval))>0).astype(int)\r\n",
        "df_ham['Acc_Ac'] = df_ham['Acc'].rolling(interval).sum()\r\n",
        "df_ham['Last_Ext'] = df_ham['Acc'].rolling(interval).sum()\r\n",
        "df_ham['Acc_Ac_Chg'] = ((df_ham['Acc_Ac']-df_ham['Acc_Ac'].shift(interval)).abs()>0).astype(int)\r\n",
        "df_ham.head(50)"
      ],
      "execution_count": 84,
      "outputs": [
        {
          "output_type": "execute_result",
          "data": {
            "text/html": [
              "<div>\n",
              "<style scoped>\n",
              "    .dataframe tbody tr th:only-of-type {\n",
              "        vertical-align: middle;\n",
              "    }\n",
              "\n",
              "    .dataframe tbody tr th {\n",
              "        vertical-align: top;\n",
              "    }\n",
              "\n",
              "    .dataframe thead th {\n",
              "        text-align: right;\n",
              "    }\n",
              "</style>\n",
              "<table border=\"1\" class=\"dataframe\">\n",
              "  <thead>\n",
              "    <tr style=\"text-align: right;\">\n",
              "      <th></th>\n",
              "      <th>Speed</th>\n",
              "      <th>Time</th>\n",
              "      <th>Distance</th>\n",
              "      <th>Acc</th>\n",
              "      <th>Acc_Ac</th>\n",
              "      <th>Last_Ext</th>\n",
              "      <th>Acc_Ac_Chg</th>\n",
              "    </tr>\n",
              "  </thead>\n",
              "  <tbody>\n",
              "    <tr>\n",
              "      <th>0</th>\n",
              "      <td>254.00</td>\n",
              "      <td>0.00</td>\n",
              "      <td>0.000000</td>\n",
              "      <td>0</td>\n",
              "      <td>NaN</td>\n",
              "      <td>NaN</td>\n",
              "      <td>0</td>\n",
              "    </tr>\n",
              "    <tr>\n",
              "      <th>1</th>\n",
              "      <td>254.10</td>\n",
              "      <td>0.02</td>\n",
              "      <td>1.411389</td>\n",
              "      <td>0</td>\n",
              "      <td>NaN</td>\n",
              "      <td>NaN</td>\n",
              "      <td>0</td>\n",
              "    </tr>\n",
              "    <tr>\n",
              "      <th>2</th>\n",
              "      <td>259.00</td>\n",
              "      <td>0.04</td>\n",
              "      <td>2.836667</td>\n",
              "      <td>0</td>\n",
              "      <td>NaN</td>\n",
              "      <td>NaN</td>\n",
              "      <td>0</td>\n",
              "    </tr>\n",
              "    <tr>\n",
              "      <th>3</th>\n",
              "      <td>259.10</td>\n",
              "      <td>0.06</td>\n",
              "      <td>4.275833</td>\n",
              "      <td>0</td>\n",
              "      <td>NaN</td>\n",
              "      <td>NaN</td>\n",
              "      <td>0</td>\n",
              "    </tr>\n",
              "    <tr>\n",
              "      <th>4</th>\n",
              "      <td>259.20</td>\n",
              "      <td>0.08</td>\n",
              "      <td>5.715556</td>\n",
              "      <td>0</td>\n",
              "      <td>0.0</td>\n",
              "      <td>0.0</td>\n",
              "      <td>0</td>\n",
              "    </tr>\n",
              "    <tr>\n",
              "      <th>5</th>\n",
              "      <td>259.30</td>\n",
              "      <td>0.10</td>\n",
              "      <td>7.155833</td>\n",
              "      <td>1</td>\n",
              "      <td>1.0</td>\n",
              "      <td>1.0</td>\n",
              "      <td>0</td>\n",
              "    </tr>\n",
              "    <tr>\n",
              "      <th>6</th>\n",
              "      <td>259.40</td>\n",
              "      <td>0.12</td>\n",
              "      <td>8.596667</td>\n",
              "      <td>1</td>\n",
              "      <td>2.0</td>\n",
              "      <td>2.0</td>\n",
              "      <td>0</td>\n",
              "    </tr>\n",
              "    <tr>\n",
              "      <th>7</th>\n",
              "      <td>259.50</td>\n",
              "      <td>0.14</td>\n",
              "      <td>10.038056</td>\n",
              "      <td>1</td>\n",
              "      <td>3.0</td>\n",
              "      <td>3.0</td>\n",
              "      <td>0</td>\n",
              "    </tr>\n",
              "    <tr>\n",
              "      <th>8</th>\n",
              "      <td>259.60</td>\n",
              "      <td>0.16</td>\n",
              "      <td>11.480000</td>\n",
              "      <td>1</td>\n",
              "      <td>4.0</td>\n",
              "      <td>4.0</td>\n",
              "      <td>0</td>\n",
              "    </tr>\n",
              "    <tr>\n",
              "      <th>9</th>\n",
              "      <td>259.70</td>\n",
              "      <td>0.18</td>\n",
              "      <td>12.922500</td>\n",
              "      <td>1</td>\n",
              "      <td>5.0</td>\n",
              "      <td>5.0</td>\n",
              "      <td>1</td>\n",
              "    </tr>\n",
              "    <tr>\n",
              "      <th>10</th>\n",
              "      <td>259.80</td>\n",
              "      <td>0.20</td>\n",
              "      <td>14.365556</td>\n",
              "      <td>1</td>\n",
              "      <td>5.0</td>\n",
              "      <td>5.0</td>\n",
              "      <td>1</td>\n",
              "    </tr>\n",
              "    <tr>\n",
              "      <th>11</th>\n",
              "      <td>259.90</td>\n",
              "      <td>0.22</td>\n",
              "      <td>15.809167</td>\n",
              "      <td>1</td>\n",
              "      <td>5.0</td>\n",
              "      <td>5.0</td>\n",
              "      <td>1</td>\n",
              "    </tr>\n",
              "    <tr>\n",
              "      <th>12</th>\n",
              "      <td>259.10</td>\n",
              "      <td>0.24</td>\n",
              "      <td>17.250833</td>\n",
              "      <td>0</td>\n",
              "      <td>4.0</td>\n",
              "      <td>4.0</td>\n",
              "      <td>1</td>\n",
              "    </tr>\n",
              "    <tr>\n",
              "      <th>13</th>\n",
              "      <td>259.11</td>\n",
              "      <td>0.26</td>\n",
              "      <td>18.690306</td>\n",
              "      <td>0</td>\n",
              "      <td>3.0</td>\n",
              "      <td>3.0</td>\n",
              "      <td>1</td>\n",
              "    </tr>\n",
              "    <tr>\n",
              "      <th>14</th>\n",
              "      <td>259.12</td>\n",
              "      <td>0.28</td>\n",
              "      <td>20.129833</td>\n",
              "      <td>0</td>\n",
              "      <td>2.0</td>\n",
              "      <td>2.0</td>\n",
              "      <td>1</td>\n",
              "    </tr>\n",
              "    <tr>\n",
              "      <th>15</th>\n",
              "      <td>259.13</td>\n",
              "      <td>0.30</td>\n",
              "      <td>21.569417</td>\n",
              "      <td>0</td>\n",
              "      <td>1.0</td>\n",
              "      <td>1.0</td>\n",
              "      <td>1</td>\n",
              "    </tr>\n",
              "    <tr>\n",
              "      <th>16</th>\n",
              "      <td>259.14</td>\n",
              "      <td>0.32</td>\n",
              "      <td>23.009056</td>\n",
              "      <td>0</td>\n",
              "      <td>0.0</td>\n",
              "      <td>0.0</td>\n",
              "      <td>1</td>\n",
              "    </tr>\n",
              "    <tr>\n",
              "      <th>17</th>\n",
              "      <td>259.15</td>\n",
              "      <td>0.34</td>\n",
              "      <td>24.448750</td>\n",
              "      <td>1</td>\n",
              "      <td>1.0</td>\n",
              "      <td>1.0</td>\n",
              "      <td>1</td>\n",
              "    </tr>\n",
              "    <tr>\n",
              "      <th>18</th>\n",
              "      <td>259.16</td>\n",
              "      <td>0.36</td>\n",
              "      <td>25.888500</td>\n",
              "      <td>1</td>\n",
              "      <td>2.0</td>\n",
              "      <td>2.0</td>\n",
              "      <td>1</td>\n",
              "    </tr>\n",
              "    <tr>\n",
              "      <th>19</th>\n",
              "      <td>259.17</td>\n",
              "      <td>0.38</td>\n",
              "      <td>27.328306</td>\n",
              "      <td>1</td>\n",
              "      <td>3.0</td>\n",
              "      <td>3.0</td>\n",
              "      <td>1</td>\n",
              "    </tr>\n",
              "    <tr>\n",
              "      <th>20</th>\n",
              "      <td>259.18</td>\n",
              "      <td>0.40</td>\n",
              "      <td>28.768167</td>\n",
              "      <td>1</td>\n",
              "      <td>4.0</td>\n",
              "      <td>4.0</td>\n",
              "      <td>1</td>\n",
              "    </tr>\n",
              "    <tr>\n",
              "      <th>21</th>\n",
              "      <td>266.00</td>\n",
              "      <td>0.42</td>\n",
              "      <td>30.227000</td>\n",
              "      <td>1</td>\n",
              "      <td>5.0</td>\n",
              "      <td>5.0</td>\n",
              "      <td>1</td>\n",
              "    </tr>\n",
              "    <tr>\n",
              "      <th>22</th>\n",
              "      <td>266.10</td>\n",
              "      <td>0.44</td>\n",
              "      <td>31.705056</td>\n",
              "      <td>1</td>\n",
              "      <td>5.0</td>\n",
              "      <td>5.0</td>\n",
              "      <td>1</td>\n",
              "    </tr>\n",
              "    <tr>\n",
              "      <th>23</th>\n",
              "      <td>266.20</td>\n",
              "      <td>0.46</td>\n",
              "      <td>33.183667</td>\n",
              "      <td>1</td>\n",
              "      <td>5.0</td>\n",
              "      <td>5.0</td>\n",
              "      <td>1</td>\n",
              "    </tr>\n",
              "    <tr>\n",
              "      <th>24</th>\n",
              "      <td>266.30</td>\n",
              "      <td>0.48</td>\n",
              "      <td>34.662833</td>\n",
              "      <td>1</td>\n",
              "      <td>5.0</td>\n",
              "      <td>5.0</td>\n",
              "      <td>1</td>\n",
              "    </tr>\n",
              "    <tr>\n",
              "      <th>25</th>\n",
              "      <td>266.40</td>\n",
              "      <td>0.50</td>\n",
              "      <td>36.142556</td>\n",
              "      <td>1</td>\n",
              "      <td>5.0</td>\n",
              "      <td>5.0</td>\n",
              "      <td>1</td>\n",
              "    </tr>\n",
              "    <tr>\n",
              "      <th>26</th>\n",
              "      <td>266.50</td>\n",
              "      <td>0.52</td>\n",
              "      <td>37.622833</td>\n",
              "      <td>1</td>\n",
              "      <td>5.0</td>\n",
              "      <td>5.0</td>\n",
              "      <td>0</td>\n",
              "    </tr>\n",
              "    <tr>\n",
              "      <th>27</th>\n",
              "      <td>268.00</td>\n",
              "      <td>0.54</td>\n",
              "      <td>39.107556</td>\n",
              "      <td>1</td>\n",
              "      <td>5.0</td>\n",
              "      <td>5.0</td>\n",
              "      <td>0</td>\n",
              "    </tr>\n",
              "    <tr>\n",
              "      <th>28</th>\n",
              "      <td>268.10</td>\n",
              "      <td>0.56</td>\n",
              "      <td>40.596722</td>\n",
              "      <td>1</td>\n",
              "      <td>5.0</td>\n",
              "      <td>5.0</td>\n",
              "      <td>0</td>\n",
              "    </tr>\n",
              "    <tr>\n",
              "      <th>29</th>\n",
              "      <td>268.20</td>\n",
              "      <td>0.58</td>\n",
              "      <td>42.086444</td>\n",
              "      <td>1</td>\n",
              "      <td>5.0</td>\n",
              "      <td>5.0</td>\n",
              "      <td>0</td>\n",
              "    </tr>\n",
              "    <tr>\n",
              "      <th>30</th>\n",
              "      <td>268.30</td>\n",
              "      <td>0.60</td>\n",
              "      <td>43.576722</td>\n",
              "      <td>1</td>\n",
              "      <td>5.0</td>\n",
              "      <td>5.0</td>\n",
              "      <td>0</td>\n",
              "    </tr>\n",
              "    <tr>\n",
              "      <th>31</th>\n",
              "      <td>268.40</td>\n",
              "      <td>0.62</td>\n",
              "      <td>45.067556</td>\n",
              "      <td>1</td>\n",
              "      <td>5.0</td>\n",
              "      <td>5.0</td>\n",
              "      <td>0</td>\n",
              "    </tr>\n",
              "    <tr>\n",
              "      <th>32</th>\n",
              "      <td>268.50</td>\n",
              "      <td>0.64</td>\n",
              "      <td>46.558944</td>\n",
              "      <td>1</td>\n",
              "      <td>5.0</td>\n",
              "      <td>5.0</td>\n",
              "      <td>0</td>\n",
              "    </tr>\n",
              "    <tr>\n",
              "      <th>33</th>\n",
              "      <td>268.60</td>\n",
              "      <td>0.66</td>\n",
              "      <td>48.050889</td>\n",
              "      <td>1</td>\n",
              "      <td>5.0</td>\n",
              "      <td>5.0</td>\n",
              "      <td>0</td>\n",
              "    </tr>\n",
              "    <tr>\n",
              "      <th>34</th>\n",
              "      <td>268.70</td>\n",
              "      <td>0.68</td>\n",
              "      <td>49.543389</td>\n",
              "      <td>1</td>\n",
              "      <td>5.0</td>\n",
              "      <td>5.0</td>\n",
              "      <td>0</td>\n",
              "    </tr>\n",
              "    <tr>\n",
              "      <th>35</th>\n",
              "      <td>270.00</td>\n",
              "      <td>0.70</td>\n",
              "      <td>51.039778</td>\n",
              "      <td>1</td>\n",
              "      <td>5.0</td>\n",
              "      <td>5.0</td>\n",
              "      <td>0</td>\n",
              "    </tr>\n",
              "    <tr>\n",
              "      <th>36</th>\n",
              "      <td>270.10</td>\n",
              "      <td>0.72</td>\n",
              "      <td>52.540056</td>\n",
              "      <td>1</td>\n",
              "      <td>5.0</td>\n",
              "      <td>5.0</td>\n",
              "      <td>0</td>\n",
              "    </tr>\n",
              "    <tr>\n",
              "      <th>37</th>\n",
              "      <td>270.20</td>\n",
              "      <td>0.74</td>\n",
              "      <td>54.040889</td>\n",
              "      <td>1</td>\n",
              "      <td>5.0</td>\n",
              "      <td>5.0</td>\n",
              "      <td>0</td>\n",
              "    </tr>\n",
              "    <tr>\n",
              "      <th>38</th>\n",
              "      <td>270.30</td>\n",
              "      <td>0.76</td>\n",
              "      <td>55.542278</td>\n",
              "      <td>1</td>\n",
              "      <td>5.0</td>\n",
              "      <td>5.0</td>\n",
              "      <td>0</td>\n",
              "    </tr>\n",
              "    <tr>\n",
              "      <th>39</th>\n",
              "      <td>270.40</td>\n",
              "      <td>0.78</td>\n",
              "      <td>57.044222</td>\n",
              "      <td>1</td>\n",
              "      <td>5.0</td>\n",
              "      <td>5.0</td>\n",
              "      <td>0</td>\n",
              "    </tr>\n",
              "    <tr>\n",
              "      <th>40</th>\n",
              "      <td>270.50</td>\n",
              "      <td>0.80</td>\n",
              "      <td>58.546722</td>\n",
              "      <td>1</td>\n",
              "      <td>5.0</td>\n",
              "      <td>5.0</td>\n",
              "      <td>0</td>\n",
              "    </tr>\n",
              "    <tr>\n",
              "      <th>41</th>\n",
              "      <td>271.00</td>\n",
              "      <td>0.82</td>\n",
              "      <td>60.050889</td>\n",
              "      <td>1</td>\n",
              "      <td>5.0</td>\n",
              "      <td>5.0</td>\n",
              "      <td>0</td>\n",
              "    </tr>\n",
              "    <tr>\n",
              "      <th>42</th>\n",
              "      <td>271.10</td>\n",
              "      <td>0.84</td>\n",
              "      <td>61.556722</td>\n",
              "      <td>1</td>\n",
              "      <td>5.0</td>\n",
              "      <td>5.0</td>\n",
              "      <td>0</td>\n",
              "    </tr>\n",
              "    <tr>\n",
              "      <th>43</th>\n",
              "      <td>271.20</td>\n",
              "      <td>0.86</td>\n",
              "      <td>63.063111</td>\n",
              "      <td>1</td>\n",
              "      <td>5.0</td>\n",
              "      <td>5.0</td>\n",
              "      <td>0</td>\n",
              "    </tr>\n",
              "    <tr>\n",
              "      <th>44</th>\n",
              "      <td>271.30</td>\n",
              "      <td>0.88</td>\n",
              "      <td>64.570056</td>\n",
              "      <td>1</td>\n",
              "      <td>5.0</td>\n",
              "      <td>5.0</td>\n",
              "      <td>0</td>\n",
              "    </tr>\n",
              "    <tr>\n",
              "      <th>45</th>\n",
              "      <td>273.00</td>\n",
              "      <td>0.90</td>\n",
              "      <td>66.082000</td>\n",
              "      <td>1</td>\n",
              "      <td>5.0</td>\n",
              "      <td>5.0</td>\n",
              "      <td>0</td>\n",
              "    </tr>\n",
              "    <tr>\n",
              "      <th>46</th>\n",
              "      <td>273.10</td>\n",
              "      <td>0.92</td>\n",
              "      <td>67.598944</td>\n",
              "      <td>1</td>\n",
              "      <td>5.0</td>\n",
              "      <td>5.0</td>\n",
              "      <td>0</td>\n",
              "    </tr>\n",
              "    <tr>\n",
              "      <th>47</th>\n",
              "      <td>273.20</td>\n",
              "      <td>0.94</td>\n",
              "      <td>69.116444</td>\n",
              "      <td>1</td>\n",
              "      <td>5.0</td>\n",
              "      <td>5.0</td>\n",
              "      <td>0</td>\n",
              "    </tr>\n",
              "    <tr>\n",
              "      <th>48</th>\n",
              "      <td>273.30</td>\n",
              "      <td>0.96</td>\n",
              "      <td>70.634500</td>\n",
              "      <td>1</td>\n",
              "      <td>5.0</td>\n",
              "      <td>5.0</td>\n",
              "      <td>0</td>\n",
              "    </tr>\n",
              "    <tr>\n",
              "      <th>49</th>\n",
              "      <td>273.40</td>\n",
              "      <td>0.98</td>\n",
              "      <td>72.153111</td>\n",
              "      <td>1</td>\n",
              "      <td>5.0</td>\n",
              "      <td>5.0</td>\n",
              "      <td>0</td>\n",
              "    </tr>\n",
              "  </tbody>\n",
              "</table>\n",
              "</div>"
            ],
            "text/plain": [
              "     Speed  Time   Distance  Acc  Acc_Ac  Last_Ext  Acc_Ac_Chg\n",
              "0   254.00  0.00   0.000000    0     NaN       NaN           0\n",
              "1   254.10  0.02   1.411389    0     NaN       NaN           0\n",
              "2   259.00  0.04   2.836667    0     NaN       NaN           0\n",
              "3   259.10  0.06   4.275833    0     NaN       NaN           0\n",
              "4   259.20  0.08   5.715556    0     0.0       0.0           0\n",
              "5   259.30  0.10   7.155833    1     1.0       1.0           0\n",
              "6   259.40  0.12   8.596667    1     2.0       2.0           0\n",
              "7   259.50  0.14  10.038056    1     3.0       3.0           0\n",
              "8   259.60  0.16  11.480000    1     4.0       4.0           0\n",
              "9   259.70  0.18  12.922500    1     5.0       5.0           1\n",
              "10  259.80  0.20  14.365556    1     5.0       5.0           1\n",
              "11  259.90  0.22  15.809167    1     5.0       5.0           1\n",
              "12  259.10  0.24  17.250833    0     4.0       4.0           1\n",
              "13  259.11  0.26  18.690306    0     3.0       3.0           1\n",
              "14  259.12  0.28  20.129833    0     2.0       2.0           1\n",
              "15  259.13  0.30  21.569417    0     1.0       1.0           1\n",
              "16  259.14  0.32  23.009056    0     0.0       0.0           1\n",
              "17  259.15  0.34  24.448750    1     1.0       1.0           1\n",
              "18  259.16  0.36  25.888500    1     2.0       2.0           1\n",
              "19  259.17  0.38  27.328306    1     3.0       3.0           1\n",
              "20  259.18  0.40  28.768167    1     4.0       4.0           1\n",
              "21  266.00  0.42  30.227000    1     5.0       5.0           1\n",
              "22  266.10  0.44  31.705056    1     5.0       5.0           1\n",
              "23  266.20  0.46  33.183667    1     5.0       5.0           1\n",
              "24  266.30  0.48  34.662833    1     5.0       5.0           1\n",
              "25  266.40  0.50  36.142556    1     5.0       5.0           1\n",
              "26  266.50  0.52  37.622833    1     5.0       5.0           0\n",
              "27  268.00  0.54  39.107556    1     5.0       5.0           0\n",
              "28  268.10  0.56  40.596722    1     5.0       5.0           0\n",
              "29  268.20  0.58  42.086444    1     5.0       5.0           0\n",
              "30  268.30  0.60  43.576722    1     5.0       5.0           0\n",
              "31  268.40  0.62  45.067556    1     5.0       5.0           0\n",
              "32  268.50  0.64  46.558944    1     5.0       5.0           0\n",
              "33  268.60  0.66  48.050889    1     5.0       5.0           0\n",
              "34  268.70  0.68  49.543389    1     5.0       5.0           0\n",
              "35  270.00  0.70  51.039778    1     5.0       5.0           0\n",
              "36  270.10  0.72  52.540056    1     5.0       5.0           0\n",
              "37  270.20  0.74  54.040889    1     5.0       5.0           0\n",
              "38  270.30  0.76  55.542278    1     5.0       5.0           0\n",
              "39  270.40  0.78  57.044222    1     5.0       5.0           0\n",
              "40  270.50  0.80  58.546722    1     5.0       5.0           0\n",
              "41  271.00  0.82  60.050889    1     5.0       5.0           0\n",
              "42  271.10  0.84  61.556722    1     5.0       5.0           0\n",
              "43  271.20  0.86  63.063111    1     5.0       5.0           0\n",
              "44  271.30  0.88  64.570056    1     5.0       5.0           0\n",
              "45  273.00  0.90  66.082000    1     5.0       5.0           0\n",
              "46  273.10  0.92  67.598944    1     5.0       5.0           0\n",
              "47  273.20  0.94  69.116444    1     5.0       5.0           0\n",
              "48  273.30  0.96  70.634500    1     5.0       5.0           0\n",
              "49  273.40  0.98  72.153111    1     5.0       5.0           0"
            ]
          },
          "metadata": {
            "tags": []
          },
          "execution_count": 84
        }
      ]
    },
    {
      "cell_type": "code",
      "metadata": {
        "id": "e4qXo1i1afFj"
      },
      "source": [
        "def last_extreme(img, extreme_up, extreme_low):\r\n",
        "  if img['Acc'][-1] == extreme_up:\r\n",
        "    value == extreme_up\r\n",
        "  elif img['Acc'][-1] == extreme_low:\r\n",
        "    value == extreme_low\r\n",
        "  else:\r\n",
        "    value = img['Last_Ext'][-1]\r\n",
        "  return value"
      ],
      "execution_count": 103,
      "outputs": []
    },
    {
      "cell_type": "code",
      "metadata": {
        "id": "qM7j9DB0jG8D"
      },
      "source": [
        "def rolling_pipe(dataframe, window, function):\r\n",
        "    return pd.Series([dataframe.iloc[i-window: i].pipe(function) \r\n",
        "                      if i >= window else None \r\n",
        "                      for i in range(1, len(dataframe)+1)],\r\n",
        "                     index = dataframe.index) \r\n",
        "\r\n"
      ],
      "execution_count": 101,
      "outputs": []
    },
    {
      "cell_type": "code",
      "metadata": {
        "colab": {
          "base_uri": "https://localhost:8080/",
          "height": 204
        },
        "id": "NT25C6Jzjmet",
        "outputId": "1be117f0-ea04-406c-f8df-8e5bf5241dd6"
      },
      "source": [
        "df_ham.iloc[100-5: 100]"
      ],
      "execution_count": 100,
      "outputs": [
        {
          "output_type": "execute_result",
          "data": {
            "text/html": [
              "<div>\n",
              "<style scoped>\n",
              "    .dataframe tbody tr th:only-of-type {\n",
              "        vertical-align: middle;\n",
              "    }\n",
              "\n",
              "    .dataframe tbody tr th {\n",
              "        vertical-align: top;\n",
              "    }\n",
              "\n",
              "    .dataframe thead th {\n",
              "        text-align: right;\n",
              "    }\n",
              "</style>\n",
              "<table border=\"1\" class=\"dataframe\">\n",
              "  <thead>\n",
              "    <tr style=\"text-align: right;\">\n",
              "      <th></th>\n",
              "      <th>Speed</th>\n",
              "      <th>Time</th>\n",
              "      <th>Distance</th>\n",
              "      <th>Acc</th>\n",
              "      <th>Acc_Ac</th>\n",
              "      <th>Last_Ext</th>\n",
              "      <th>Acc_Ac_Chg</th>\n",
              "    </tr>\n",
              "  </thead>\n",
              "  <tbody>\n",
              "    <tr>\n",
              "      <th>95</th>\n",
              "      <td>287.3</td>\n",
              "      <td>1.90</td>\n",
              "      <td>143.465944</td>\n",
              "      <td>1</td>\n",
              "      <td>5.0</td>\n",
              "      <td>5.0</td>\n",
              "      <td>1</td>\n",
              "    </tr>\n",
              "    <tr>\n",
              "      <th>96</th>\n",
              "      <td>287.4</td>\n",
              "      <td>1.92</td>\n",
              "      <td>145.062333</td>\n",
              "      <td>1</td>\n",
              "      <td>5.0</td>\n",
              "      <td>5.0</td>\n",
              "      <td>1</td>\n",
              "    </tr>\n",
              "    <tr>\n",
              "      <th>97</th>\n",
              "      <td>287.5</td>\n",
              "      <td>1.94</td>\n",
              "      <td>146.659278</td>\n",
              "      <td>1</td>\n",
              "      <td>5.0</td>\n",
              "      <td>5.0</td>\n",
              "      <td>1</td>\n",
              "    </tr>\n",
              "    <tr>\n",
              "      <th>98</th>\n",
              "      <td>287.6</td>\n",
              "      <td>1.96</td>\n",
              "      <td>148.256778</td>\n",
              "      <td>1</td>\n",
              "      <td>5.0</td>\n",
              "      <td>5.0</td>\n",
              "      <td>0</td>\n",
              "    </tr>\n",
              "    <tr>\n",
              "      <th>99</th>\n",
              "      <td>287.7</td>\n",
              "      <td>1.98</td>\n",
              "      <td>149.854833</td>\n",
              "      <td>1</td>\n",
              "      <td>5.0</td>\n",
              "      <td>5.0</td>\n",
              "      <td>0</td>\n",
              "    </tr>\n",
              "  </tbody>\n",
              "</table>\n",
              "</div>"
            ],
            "text/plain": [
              "    Speed  Time    Distance  Acc  Acc_Ac  Last_Ext  Acc_Ac_Chg\n",
              "95  287.3  1.90  143.465944    1     5.0       5.0           1\n",
              "96  287.4  1.92  145.062333    1     5.0       5.0           1\n",
              "97  287.5  1.94  146.659278    1     5.0       5.0           1\n",
              "98  287.6  1.96  148.256778    1     5.0       5.0           0\n",
              "99  287.7  1.98  149.854833    1     5.0       5.0           0"
            ]
          },
          "metadata": {
            "tags": []
          },
          "execution_count": 100
        }
      ]
    },
    {
      "cell_type": "code",
      "metadata": {
        "colab": {
          "base_uri": "https://localhost:8080/",
          "height": 425
        },
        "id": "FvMkCC0MjUAu",
        "outputId": "de9d5aae-7007-4892-a888-5820b59c7fd5"
      },
      "source": [
        "df_ham.pipe(rolling_pipe, 3, lambda x: last_extreme(x, 5, 0))"
      ],
      "execution_count": 104,
      "outputs": [
        {
          "output_type": "error",
          "ename": "KeyError",
          "evalue": "ignored",
          "traceback": [
            "\u001b[0;31m---------------------------------------------------------------------------\u001b[0m",
            "\u001b[0;31mValueError\u001b[0m                                Traceback (most recent call last)",
            "\u001b[0;32m/usr/local/lib/python3.7/dist-packages/pandas/core/indexes/range.py\u001b[0m in \u001b[0;36mget_loc\u001b[0;34m(self, key, method, tolerance)\u001b[0m\n\u001b[1;32m    354\u001b[0m                 \u001b[0;32mtry\u001b[0m\u001b[0;34m:\u001b[0m\u001b[0;34m\u001b[0m\u001b[0;34m\u001b[0m\u001b[0m\n\u001b[0;32m--> 355\u001b[0;31m                     \u001b[0;32mreturn\u001b[0m \u001b[0mself\u001b[0m\u001b[0;34m.\u001b[0m\u001b[0m_range\u001b[0m\u001b[0;34m.\u001b[0m\u001b[0mindex\u001b[0m\u001b[0;34m(\u001b[0m\u001b[0mnew_key\u001b[0m\u001b[0;34m)\u001b[0m\u001b[0;34m\u001b[0m\u001b[0;34m\u001b[0m\u001b[0m\n\u001b[0m\u001b[1;32m    356\u001b[0m                 \u001b[0;32mexcept\u001b[0m \u001b[0mValueError\u001b[0m \u001b[0;32mas\u001b[0m \u001b[0merr\u001b[0m\u001b[0;34m:\u001b[0m\u001b[0;34m\u001b[0m\u001b[0;34m\u001b[0m\u001b[0m\n",
            "\u001b[0;31mValueError\u001b[0m: -1 is not in range",
            "\nThe above exception was the direct cause of the following exception:\n",
            "\u001b[0;31mKeyError\u001b[0m                                  Traceback (most recent call last)",
            "\u001b[0;32m<ipython-input-104-581ddc3f37fd>\u001b[0m in \u001b[0;36m<module>\u001b[0;34m()\u001b[0m\n\u001b[0;32m----> 1\u001b[0;31m \u001b[0mdf_ham\u001b[0m\u001b[0;34m.\u001b[0m\u001b[0mpipe\u001b[0m\u001b[0;34m(\u001b[0m\u001b[0mrolling_pipe\u001b[0m\u001b[0;34m,\u001b[0m \u001b[0;36m3\u001b[0m\u001b[0;34m,\u001b[0m \u001b[0;32mlambda\u001b[0m \u001b[0mx\u001b[0m\u001b[0;34m:\u001b[0m \u001b[0mlast_extreme\u001b[0m\u001b[0;34m(\u001b[0m\u001b[0mx\u001b[0m\u001b[0;34m,\u001b[0m \u001b[0;36m5\u001b[0m\u001b[0;34m,\u001b[0m \u001b[0;36m0\u001b[0m\u001b[0;34m)\u001b[0m\u001b[0;34m)\u001b[0m\u001b[0;34m\u001b[0m\u001b[0;34m\u001b[0m\u001b[0m\n\u001b[0m",
            "\u001b[0;32m/usr/local/lib/python3.7/dist-packages/pandas/core/generic.py\u001b[0m in \u001b[0;36mpipe\u001b[0;34m(self, func, *args, **kwargs)\u001b[0m\n\u001b[1;32m   5048\u001b[0m         ...  )  # doctest: +SKIP\n\u001b[1;32m   5049\u001b[0m     \"\"\"\n\u001b[0;32m-> 5050\u001b[0;31m         \u001b[0;32mreturn\u001b[0m \u001b[0mcom\u001b[0m\u001b[0;34m.\u001b[0m\u001b[0mpipe\u001b[0m\u001b[0;34m(\u001b[0m\u001b[0mself\u001b[0m\u001b[0;34m,\u001b[0m \u001b[0mfunc\u001b[0m\u001b[0;34m,\u001b[0m \u001b[0;34m*\u001b[0m\u001b[0margs\u001b[0m\u001b[0;34m,\u001b[0m \u001b[0;34m**\u001b[0m\u001b[0mkwargs\u001b[0m\u001b[0;34m)\u001b[0m\u001b[0;34m\u001b[0m\u001b[0;34m\u001b[0m\u001b[0m\n\u001b[0m\u001b[1;32m   5051\u001b[0m \u001b[0;34m\u001b[0m\u001b[0m\n\u001b[1;32m   5052\u001b[0m     _shared_docs[\"aggregate\"] = dedent(\n",
            "\u001b[0;32m/usr/local/lib/python3.7/dist-packages/pandas/core/common.py\u001b[0m in \u001b[0;36mpipe\u001b[0;34m(obj, func, *args, **kwargs)\u001b[0m\n\u001b[1;32m    469\u001b[0m         \u001b[0;32mreturn\u001b[0m \u001b[0mfunc\u001b[0m\u001b[0;34m(\u001b[0m\u001b[0;34m*\u001b[0m\u001b[0margs\u001b[0m\u001b[0;34m,\u001b[0m \u001b[0;34m**\u001b[0m\u001b[0mkwargs\u001b[0m\u001b[0;34m)\u001b[0m\u001b[0;34m\u001b[0m\u001b[0;34m\u001b[0m\u001b[0m\n\u001b[1;32m    470\u001b[0m     \u001b[0;32melse\u001b[0m\u001b[0;34m:\u001b[0m\u001b[0;34m\u001b[0m\u001b[0;34m\u001b[0m\u001b[0m\n\u001b[0;32m--> 471\u001b[0;31m         \u001b[0;32mreturn\u001b[0m \u001b[0mfunc\u001b[0m\u001b[0;34m(\u001b[0m\u001b[0mobj\u001b[0m\u001b[0;34m,\u001b[0m \u001b[0;34m*\u001b[0m\u001b[0margs\u001b[0m\u001b[0;34m,\u001b[0m \u001b[0;34m**\u001b[0m\u001b[0mkwargs\u001b[0m\u001b[0;34m)\u001b[0m\u001b[0;34m\u001b[0m\u001b[0;34m\u001b[0m\u001b[0m\n\u001b[0m\u001b[1;32m    472\u001b[0m \u001b[0;34m\u001b[0m\u001b[0m\n\u001b[1;32m    473\u001b[0m \u001b[0;34m\u001b[0m\u001b[0m\n",
            "\u001b[0;32m<ipython-input-101-facde789a4d5>\u001b[0m in \u001b[0;36mrolling_pipe\u001b[0;34m(dataframe, window, function)\u001b[0m\n\u001b[1;32m      2\u001b[0m     return pd.Series([dataframe.iloc[i-window: i].pipe(function) \n\u001b[1;32m      3\u001b[0m                       \u001b[0;32mif\u001b[0m \u001b[0mi\u001b[0m \u001b[0;34m>=\u001b[0m \u001b[0mwindow\u001b[0m \u001b[0;32melse\u001b[0m \u001b[0;32mNone\u001b[0m\u001b[0;34m\u001b[0m\u001b[0;34m\u001b[0m\u001b[0m\n\u001b[0;32m----> 4\u001b[0;31m                       for i in range(1, len(dataframe)+1)],\n\u001b[0m\u001b[1;32m      5\u001b[0m                      index = dataframe.index) \n\u001b[1;32m      6\u001b[0m \u001b[0;34m\u001b[0m\u001b[0m\n",
            "\u001b[0;32m<ipython-input-101-facde789a4d5>\u001b[0m in \u001b[0;36m<listcomp>\u001b[0;34m(.0)\u001b[0m\n\u001b[1;32m      2\u001b[0m     return pd.Series([dataframe.iloc[i-window: i].pipe(function) \n\u001b[1;32m      3\u001b[0m                       \u001b[0;32mif\u001b[0m \u001b[0mi\u001b[0m \u001b[0;34m>=\u001b[0m \u001b[0mwindow\u001b[0m \u001b[0;32melse\u001b[0m \u001b[0;32mNone\u001b[0m\u001b[0;34m\u001b[0m\u001b[0;34m\u001b[0m\u001b[0m\n\u001b[0;32m----> 4\u001b[0;31m                       for i in range(1, len(dataframe)+1)],\n\u001b[0m\u001b[1;32m      5\u001b[0m                      index = dataframe.index) \n\u001b[1;32m      6\u001b[0m \u001b[0;34m\u001b[0m\u001b[0m\n",
            "\u001b[0;32m/usr/local/lib/python3.7/dist-packages/pandas/core/generic.py\u001b[0m in \u001b[0;36mpipe\u001b[0;34m(self, func, *args, **kwargs)\u001b[0m\n\u001b[1;32m   5048\u001b[0m         ...  )  # doctest: +SKIP\n\u001b[1;32m   5049\u001b[0m     \"\"\"\n\u001b[0;32m-> 5050\u001b[0;31m         \u001b[0;32mreturn\u001b[0m \u001b[0mcom\u001b[0m\u001b[0;34m.\u001b[0m\u001b[0mpipe\u001b[0m\u001b[0;34m(\u001b[0m\u001b[0mself\u001b[0m\u001b[0;34m,\u001b[0m \u001b[0mfunc\u001b[0m\u001b[0;34m,\u001b[0m \u001b[0;34m*\u001b[0m\u001b[0margs\u001b[0m\u001b[0;34m,\u001b[0m \u001b[0;34m**\u001b[0m\u001b[0mkwargs\u001b[0m\u001b[0;34m)\u001b[0m\u001b[0;34m\u001b[0m\u001b[0;34m\u001b[0m\u001b[0m\n\u001b[0m\u001b[1;32m   5051\u001b[0m \u001b[0;34m\u001b[0m\u001b[0m\n\u001b[1;32m   5052\u001b[0m     _shared_docs[\"aggregate\"] = dedent(\n",
            "\u001b[0;32m/usr/local/lib/python3.7/dist-packages/pandas/core/common.py\u001b[0m in \u001b[0;36mpipe\u001b[0;34m(obj, func, *args, **kwargs)\u001b[0m\n\u001b[1;32m    469\u001b[0m         \u001b[0;32mreturn\u001b[0m \u001b[0mfunc\u001b[0m\u001b[0;34m(\u001b[0m\u001b[0;34m*\u001b[0m\u001b[0margs\u001b[0m\u001b[0;34m,\u001b[0m \u001b[0;34m**\u001b[0m\u001b[0mkwargs\u001b[0m\u001b[0;34m)\u001b[0m\u001b[0;34m\u001b[0m\u001b[0;34m\u001b[0m\u001b[0m\n\u001b[1;32m    470\u001b[0m     \u001b[0;32melse\u001b[0m\u001b[0;34m:\u001b[0m\u001b[0;34m\u001b[0m\u001b[0;34m\u001b[0m\u001b[0m\n\u001b[0;32m--> 471\u001b[0;31m         \u001b[0;32mreturn\u001b[0m \u001b[0mfunc\u001b[0m\u001b[0;34m(\u001b[0m\u001b[0mobj\u001b[0m\u001b[0;34m,\u001b[0m \u001b[0;34m*\u001b[0m\u001b[0margs\u001b[0m\u001b[0;34m,\u001b[0m \u001b[0;34m**\u001b[0m\u001b[0mkwargs\u001b[0m\u001b[0;34m)\u001b[0m\u001b[0;34m\u001b[0m\u001b[0;34m\u001b[0m\u001b[0m\n\u001b[0m\u001b[1;32m    472\u001b[0m \u001b[0;34m\u001b[0m\u001b[0m\n\u001b[1;32m    473\u001b[0m \u001b[0;34m\u001b[0m\u001b[0m\n",
            "\u001b[0;32m<ipython-input-104-581ddc3f37fd>\u001b[0m in \u001b[0;36m<lambda>\u001b[0;34m(x)\u001b[0m\n\u001b[0;32m----> 1\u001b[0;31m \u001b[0mdf_ham\u001b[0m\u001b[0;34m.\u001b[0m\u001b[0mpipe\u001b[0m\u001b[0;34m(\u001b[0m\u001b[0mrolling_pipe\u001b[0m\u001b[0;34m,\u001b[0m \u001b[0;36m3\u001b[0m\u001b[0;34m,\u001b[0m \u001b[0;32mlambda\u001b[0m \u001b[0mx\u001b[0m\u001b[0;34m:\u001b[0m \u001b[0mlast_extreme\u001b[0m\u001b[0;34m(\u001b[0m\u001b[0mx\u001b[0m\u001b[0;34m,\u001b[0m \u001b[0;36m5\u001b[0m\u001b[0;34m,\u001b[0m \u001b[0;36m0\u001b[0m\u001b[0;34m)\u001b[0m\u001b[0;34m)\u001b[0m\u001b[0;34m\u001b[0m\u001b[0;34m\u001b[0m\u001b[0m\n\u001b[0m",
            "\u001b[0;32m<ipython-input-103-dbd85c2c2725>\u001b[0m in \u001b[0;36mlast_extreme\u001b[0;34m(img, extreme_up, extreme_low)\u001b[0m\n\u001b[1;32m      1\u001b[0m \u001b[0;32mdef\u001b[0m \u001b[0mlast_extreme\u001b[0m\u001b[0;34m(\u001b[0m\u001b[0mimg\u001b[0m\u001b[0;34m,\u001b[0m \u001b[0mextreme_up\u001b[0m\u001b[0;34m,\u001b[0m \u001b[0mextreme_low\u001b[0m\u001b[0;34m)\u001b[0m\u001b[0;34m:\u001b[0m\u001b[0;34m\u001b[0m\u001b[0;34m\u001b[0m\u001b[0m\n\u001b[0;32m----> 2\u001b[0;31m   \u001b[0;32mif\u001b[0m \u001b[0mimg\u001b[0m\u001b[0;34m[\u001b[0m\u001b[0;34m'Acc'\u001b[0m\u001b[0;34m]\u001b[0m\u001b[0;34m[\u001b[0m\u001b[0;34m-\u001b[0m\u001b[0;36m1\u001b[0m\u001b[0;34m]\u001b[0m \u001b[0;34m==\u001b[0m \u001b[0mextreme_up\u001b[0m\u001b[0;34m:\u001b[0m\u001b[0;34m\u001b[0m\u001b[0;34m\u001b[0m\u001b[0m\n\u001b[0m\u001b[1;32m      3\u001b[0m     \u001b[0mvalue\u001b[0m \u001b[0;34m==\u001b[0m \u001b[0mextreme_up\u001b[0m\u001b[0;34m\u001b[0m\u001b[0;34m\u001b[0m\u001b[0m\n\u001b[1;32m      4\u001b[0m   \u001b[0;32melif\u001b[0m \u001b[0mimg\u001b[0m\u001b[0;34m[\u001b[0m\u001b[0;34m'Acc'\u001b[0m\u001b[0;34m]\u001b[0m\u001b[0;34m[\u001b[0m\u001b[0;34m-\u001b[0m\u001b[0;36m1\u001b[0m\u001b[0;34m]\u001b[0m \u001b[0;34m==\u001b[0m \u001b[0mextreme_low\u001b[0m\u001b[0;34m:\u001b[0m\u001b[0;34m\u001b[0m\u001b[0;34m\u001b[0m\u001b[0m\n\u001b[1;32m      5\u001b[0m     \u001b[0mvalue\u001b[0m \u001b[0;34m==\u001b[0m \u001b[0mextreme_low\u001b[0m\u001b[0;34m\u001b[0m\u001b[0;34m\u001b[0m\u001b[0m\n",
            "\u001b[0;32m/usr/local/lib/python3.7/dist-packages/pandas/core/series.py\u001b[0m in \u001b[0;36m__getitem__\u001b[0;34m(self, key)\u001b[0m\n\u001b[1;32m    880\u001b[0m \u001b[0;34m\u001b[0m\u001b[0m\n\u001b[1;32m    881\u001b[0m         \u001b[0;32melif\u001b[0m \u001b[0mkey_is_scalar\u001b[0m\u001b[0;34m:\u001b[0m\u001b[0;34m\u001b[0m\u001b[0;34m\u001b[0m\u001b[0m\n\u001b[0;32m--> 882\u001b[0;31m             \u001b[0;32mreturn\u001b[0m \u001b[0mself\u001b[0m\u001b[0;34m.\u001b[0m\u001b[0m_get_value\u001b[0m\u001b[0;34m(\u001b[0m\u001b[0mkey\u001b[0m\u001b[0;34m)\u001b[0m\u001b[0;34m\u001b[0m\u001b[0;34m\u001b[0m\u001b[0m\n\u001b[0m\u001b[1;32m    883\u001b[0m \u001b[0;34m\u001b[0m\u001b[0m\n\u001b[1;32m    884\u001b[0m         \u001b[0;32mif\u001b[0m \u001b[0mis_hashable\u001b[0m\u001b[0;34m(\u001b[0m\u001b[0mkey\u001b[0m\u001b[0;34m)\u001b[0m\u001b[0;34m:\u001b[0m\u001b[0;34m\u001b[0m\u001b[0;34m\u001b[0m\u001b[0m\n",
            "\u001b[0;32m/usr/local/lib/python3.7/dist-packages/pandas/core/series.py\u001b[0m in \u001b[0;36m_get_value\u001b[0;34m(self, label, takeable)\u001b[0m\n\u001b[1;32m    988\u001b[0m \u001b[0;34m\u001b[0m\u001b[0m\n\u001b[1;32m    989\u001b[0m         \u001b[0;31m# Similar to Index.get_value, but we do not fall back to positional\u001b[0m\u001b[0;34m\u001b[0m\u001b[0;34m\u001b[0m\u001b[0;34m\u001b[0m\u001b[0m\n\u001b[0;32m--> 990\u001b[0;31m         \u001b[0mloc\u001b[0m \u001b[0;34m=\u001b[0m \u001b[0mself\u001b[0m\u001b[0;34m.\u001b[0m\u001b[0mindex\u001b[0m\u001b[0;34m.\u001b[0m\u001b[0mget_loc\u001b[0m\u001b[0;34m(\u001b[0m\u001b[0mlabel\u001b[0m\u001b[0;34m)\u001b[0m\u001b[0;34m\u001b[0m\u001b[0;34m\u001b[0m\u001b[0m\n\u001b[0m\u001b[1;32m    991\u001b[0m         \u001b[0;32mreturn\u001b[0m \u001b[0mself\u001b[0m\u001b[0;34m.\u001b[0m\u001b[0mindex\u001b[0m\u001b[0;34m.\u001b[0m\u001b[0m_get_values_for_loc\u001b[0m\u001b[0;34m(\u001b[0m\u001b[0mself\u001b[0m\u001b[0;34m,\u001b[0m \u001b[0mloc\u001b[0m\u001b[0;34m,\u001b[0m \u001b[0mlabel\u001b[0m\u001b[0;34m)\u001b[0m\u001b[0;34m\u001b[0m\u001b[0;34m\u001b[0m\u001b[0m\n\u001b[1;32m    992\u001b[0m \u001b[0;34m\u001b[0m\u001b[0m\n",
            "\u001b[0;32m/usr/local/lib/python3.7/dist-packages/pandas/core/indexes/range.py\u001b[0m in \u001b[0;36mget_loc\u001b[0;34m(self, key, method, tolerance)\u001b[0m\n\u001b[1;32m    355\u001b[0m                     \u001b[0;32mreturn\u001b[0m \u001b[0mself\u001b[0m\u001b[0;34m.\u001b[0m\u001b[0m_range\u001b[0m\u001b[0;34m.\u001b[0m\u001b[0mindex\u001b[0m\u001b[0;34m(\u001b[0m\u001b[0mnew_key\u001b[0m\u001b[0;34m)\u001b[0m\u001b[0;34m\u001b[0m\u001b[0;34m\u001b[0m\u001b[0m\n\u001b[1;32m    356\u001b[0m                 \u001b[0;32mexcept\u001b[0m \u001b[0mValueError\u001b[0m \u001b[0;32mas\u001b[0m \u001b[0merr\u001b[0m\u001b[0;34m:\u001b[0m\u001b[0;34m\u001b[0m\u001b[0;34m\u001b[0m\u001b[0m\n\u001b[0;32m--> 357\u001b[0;31m                     \u001b[0;32mraise\u001b[0m \u001b[0mKeyError\u001b[0m\u001b[0;34m(\u001b[0m\u001b[0mkey\u001b[0m\u001b[0;34m)\u001b[0m \u001b[0;32mfrom\u001b[0m \u001b[0merr\u001b[0m\u001b[0;34m\u001b[0m\u001b[0;34m\u001b[0m\u001b[0m\n\u001b[0m\u001b[1;32m    358\u001b[0m             \u001b[0;32mraise\u001b[0m \u001b[0mKeyError\u001b[0m\u001b[0;34m(\u001b[0m\u001b[0mkey\u001b[0m\u001b[0;34m)\u001b[0m\u001b[0;34m\u001b[0m\u001b[0;34m\u001b[0m\u001b[0m\n\u001b[1;32m    359\u001b[0m         \u001b[0;32mreturn\u001b[0m \u001b[0msuper\u001b[0m\u001b[0;34m(\u001b[0m\u001b[0;34m)\u001b[0m\u001b[0;34m.\u001b[0m\u001b[0mget_loc\u001b[0m\u001b[0;34m(\u001b[0m\u001b[0mkey\u001b[0m\u001b[0;34m,\u001b[0m \u001b[0mmethod\u001b[0m\u001b[0;34m=\u001b[0m\u001b[0mmethod\u001b[0m\u001b[0;34m,\u001b[0m \u001b[0mtolerance\u001b[0m\u001b[0;34m=\u001b[0m\u001b[0mtolerance\u001b[0m\u001b[0;34m)\u001b[0m\u001b[0;34m\u001b[0m\u001b[0;34m\u001b[0m\u001b[0m\n",
            "\u001b[0;31mKeyError\u001b[0m: -1"
          ]
        }
      ]
    },
    {
      "cell_type": "code",
      "metadata": {
        "colab": {
          "base_uri": "https://localhost:8080/",
          "height": 282
        },
        "id": "gxwUafF9Xzfl",
        "outputId": "f9204613-be54-4367-c5a7-20e44f86cfd4"
      },
      "source": [
        "plt.plot(df_ham['Speed'])\r\n",
        "plt.plot(df_ham['Acc_Ac']*10)"
      ],
      "execution_count": 72,
      "outputs": [
        {
          "output_type": "execute_result",
          "data": {
            "text/plain": [
              "[<matplotlib.lines.Line2D at 0x7fbb167fb190>]"
            ]
          },
          "metadata": {
            "tags": []
          },
          "execution_count": 72
        },
        {
          "output_type": "display_data",
          "data": {
            "image/png": "[encoded data removed]",
            "text/plain": [
              "<Figure size 432x288 with 1 Axes>"
            ]
          },
          "metadata": {
            "tags": [],
            "needs_background": "light"
          }
        }
      ]
    },
    {
      "cell_type": "code",
      "metadata": {
        "colab": {
          "base_uri": "https://localhost:8080/"
        },
        "id": "mTg1SA62OqC_",
        "outputId": "80bb3516-0c86-4525-e2e6-91785a729e0c"
      },
      "source": [
        "df_ham['Acc']"
      ],
      "execution_count": 55,
      "outputs": [
        {
          "output_type": "execute_result",
          "data": {
            "text/plain": [
              "0       0\n",
              "1       1\n",
              "2       1\n",
              "3       1\n",
              "4       1\n",
              "       ..\n",
              "4463    1\n",
              "4464    1\n",
              "4465    1\n",
              "4466    1\n",
              "4467    1\n",
              "Name: Acc, Length: 4468, dtype: int64"
            ]
          },
          "metadata": {
            "tags": []
          },
          "execution_count": 55
        }
      ]
    },
    {
      "cell_type": "code",
      "metadata": {
        "id": "T_fPslKFOqGP"
      },
      "source": [
        ""
      ],
      "execution_count": null,
      "outputs": []
    },
    {
      "cell_type": "code",
      "metadata": {
        "id": "RQOeOFWWOqJr"
      },
      "source": [
        ""
      ],
      "execution_count": null,
      "outputs": []
    },
    {
      "cell_type": "code",
      "metadata": {
        "id": "i3Tb9tqdOqNH"
      },
      "source": [
        ""
      ],
      "execution_count": null,
      "outputs": []
    },
    {
      "cell_type": "code",
      "metadata": {
        "id": "87LU3wXVOqQb"
      },
      "source": [
        ""
      ],
      "execution_count": null,
      "outputs": []
    },
    {
      "cell_type": "markdown",
      "metadata": {
        "id": "KBOQJ0AjdYrM"
      },
      "source": [
        "# 02 EDA\r\n",
        "Realizaremos un pequeño análisis exploratorio visual para familiarizarnos con el dataset. \r\n",
        "\r\n",
        "Recuerda que puedes encontrar mis clases sobre análisis exploratorio [aquí](https://github.com/JotaBlanco/TheValley/tree/main/EDA/)."
      ]
    },
    {
      "cell_type": "code",
      "metadata": {
        "id": "qGrwhGyaj0-a"
      },
      "source": [
        "df.info()"
      ],
      "execution_count": null,
      "outputs": []
    },
    {
      "cell_type": "code",
      "metadata": {
        "id": "8LoZpl8rjWEX"
      },
      "source": [
        "df.describe()"
      ],
      "execution_count": null,
      "outputs": []
    },
    {
      "cell_type": "code",
      "metadata": {
        "id": "YUz-qSwBjaEW"
      },
      "source": [
        "# Visualización coeficientes Pearson\r\n",
        "plt.figure(figsize=(12,9))\r\n",
        "sns.heatmap(np.round(df.corr(),2), \r\n",
        "            vmin=-1, vmax=1, \r\n",
        "            annot=True, cmap=\"coolwarm\")\r\n",
        "plt.show()"
      ],
      "execution_count": null,
      "outputs": []
    },
    {
      "cell_type": "markdown",
      "metadata": {
        "id": "lcnJKyElO8FU"
      },
      "source": [
        "# 03 Construcción árbol de decisión a mano\r\n",
        "Nunca lo haremos en la vida real, pero para afianzar el entendimiento de este tipo de algoritmos, vamos a reproducir el proceso de entrenamiento a mano."
      ]
    },
    {
      "cell_type": "markdown",
      "metadata": {
        "id": "BBXHQSiBCzgT"
      },
      "source": [
        "## 0301 DataFrame\r\n",
        "Para simplificar, haremos esto con un dataframe consistente solo en las columnas ['baseline value', 'accelerations', 'fetal_movement', 'fetal_health'] renombradas como ['Base', 'Acc', 'Mov', 'Salud Feto']."
      ]
    },
    {
      "cell_type": "code",
      "metadata": {
        "id": "L3SmZ9EyD8m8"
      },
      "source": [
        "df.columns"
      ],
      "execution_count": null,
      "outputs": []
    },
    {
      "cell_type": "code",
      "metadata": {
        "id": "X-DsmAVtDHJH"
      },
      "source": [
        "df_resumen = df[['baseline value', 'accelerations', 'fetal_movement', 'fetal_health']]\r\n",
        "df_resumen.columns = ['Base', 'Acc', 'Mov', 'Salud Feto']\r\n",
        "df_resumen.head(7)"
      ],
      "execution_count": null,
      "outputs": []
    },
    {
      "cell_type": "markdown",
      "metadata": {
        "id": "7TX8LhTlWZC7"
      },
      "source": [
        "## 0301 Seleccionamos el nodo raíz\r\n",
        "Para seleccionar el nodo raíz generaremos árboles muy sencillos, de solo 3 nodos (una sola partición)."
      ]
    },
    {
      "cell_type": "markdown",
      "metadata": {
        "id": "EE9K9D7kM9Ru"
      },
      "source": [
        "### 030101 Variable categórica\r\n",
        "En este dataset resumen no tenemos una variable categórica binaria, pero generamos una a partir de una partición sobre una variable continua (por ejemplo Base > 132).\r\n",
        "\r\n",
        "A partir de esa nueva variable categórica binaria probamos a generar una partición."
      ]
    },
    {
      "cell_type": "code",
      "metadata": {
        "id": "-kyz6cu_ZOSs"
      },
      "source": [
        "df_resumen_i = df_resumen.copy(deep=True)\r\n",
        "filtro_i = df_resumen_i['Base'] > 132\r\n",
        "df_resumen_i['base > 132'] = filtro_i.astype(int)\r\n",
        "df_resumen_i.head()"
      ],
      "execution_count": null,
      "outputs": []
    },
    {
      "cell_type": "code",
      "metadata": {
        "id": "IsFqrhz9xAYI"
      },
      "source": [
        "# Podemos hacer la partición Anemia = 1 y Anemia = 0 con un groupby\r\n",
        "df_i = df_resumen_i.groupby(['base > 132','Salud Feto'])['Base'].agg(['count']).reset_index()\r\n",
        "df_i"
      ],
      "execution_count": null,
      "outputs": []
    },
    {
      "cell_type": "code",
      "metadata": {
        "id": "fZBfJw78E0ZD"
      },
      "source": [
        "def particion_categorica(df, target, var_discreta):\r\n",
        "  \"\"\"\r\n",
        "  Genera un dataframe con información sobre la partición utilizando la variable\r\n",
        "  discreta binaria aportada.\r\n",
        "  \"\"\"\r\n",
        "  df_i = df.groupby([var_discreta,target])[df.columns[0]].agg(['count']).reset_index()\r\n",
        "  \r\n",
        "  return df_i.sort_values(var_discreta, ascending=True).reset_index(drop=True)"
      ],
      "execution_count": null,
      "outputs": []
    },
    {
      "cell_type": "markdown",
      "metadata": {
        "id": "dlRcuKtvwD9O"
      },
      "source": [
        "### 030102 Variable Continua\r\n",
        "Las variables continuas pueden dar lugar a diversas particiones. Veamos la variable 'Base' como ejemplo."
      ]
    },
    {
      "cell_type": "code",
      "metadata": {
        "id": "M0V5r52h5tYj"
      },
      "source": [
        "def particiones_continuas(df, target, var_continua):\r\n",
        "  \"\"\"\r\n",
        "  Muestra una serie dataframes con información sobre las distintas particiones \r\n",
        "  posibles utilizando la variable continua aportada.\r\n",
        "  \"\"\"\r\n",
        "  valores_unicos_ordenados = df[var_continua].sort_values().unique()\r\n",
        "  valores_particiones = (valores_unicos_ordenados[:-1] + \r\n",
        "                         valores_unicos_ordenados[1:])/2\r\n",
        "\r\n",
        "  for valor in valores_particiones:\r\n",
        "    df_i = df.copy(deep=True)\r\n",
        "    filtro_i = df_i[var_continua] > valor\r\n",
        "    df_i[str(var_continua) + ' > ' + str(valor)] = filtro_i.astype(int)\r\n",
        "    df_i = particion_categorica(df_i, \r\n",
        "                                target, \r\n",
        "                                str(var_continua) + ' > ' + str(valor))\r\n",
        "    display(df_i)"
      ],
      "execution_count": null,
      "outputs": []
    },
    {
      "cell_type": "code",
      "metadata": {
        "id": "okLIc7df57Qi"
      },
      "source": [
        "particiones_continuas(df_resumen, 'Salud Feto', 'Base')"
      ],
      "execution_count": null,
      "outputs": []
    },
    {
      "cell_type": "markdown",
      "metadata": {
        "id": "TL2RbI9Qj529"
      },
      "source": [
        "### 030103 Impureza de Gini\r\n",
        "Calculamos la impureza de Gini de cada una de las particiones."
      ]
    },
    {
      "cell_type": "code",
      "metadata": {
        "id": "ux4INX9O6YwT"
      },
      "source": [
        "df_i"
      ],
      "execution_count": null,
      "outputs": []
    },
    {
      "cell_type": "code",
      "metadata": {
        "id": "ReuOc9GwkL0s"
      },
      "source": [
        "def gini(df_i):\r\n",
        "  \"\"\"\r\n",
        "  Calcula el Gini para cada nodo el ponderado de la decisión.\r\n",
        "  \"\"\"\r\n",
        "  for nodo in [0, 1]:\r\n",
        "    gini = 1\r\n",
        "    filtro_condicion = df_i[df_i.columns[0]]==nodo\r\n",
        "    for clase in df_i.loc[filtro_condicion, df_i.columns[1]]:\r\n",
        "      conteo_i = int(df_i.loc[((filtro_condicion)&(df_i[df_i.columns[1]]==clase)), 'count'])\r\n",
        "      prob_i = conteo_i/df_i.loc[filtro_condicion, 'count'].sum()\r\n",
        "      gini = gini - prob_i**2\r\n",
        "    \r\n",
        "    df_i.loc[filtro_condicion,'Gini'] = gini\r\n",
        "  \r\n",
        "  df_i_group = df_i.groupby([df_i.columns[0], 'Gini'])['count'].agg('sum').reset_index()\r\n",
        "  gini_pond = (df_i_group['count'][0] * df_i_group['Gini'][0] +  \r\n",
        "               df_i_group['count'][1] * df_i_group['Gini'][1])/(df_i_group['count'].sum())\r\n",
        "  \r\n",
        "  df_i['Gini Media Pond'] = gini_pond\r\n",
        "  return df_i"
      ],
      "execution_count": null,
      "outputs": []
    },
    {
      "cell_type": "code",
      "metadata": {
        "id": "SwCnVBZJkcLn"
      },
      "source": [
        "gini(df_i)"
      ],
      "execution_count": null,
      "outputs": []
    },
    {
      "cell_type": "code",
      "metadata": {
        "id": "_03aMUMNXRuf"
      },
      "source": [
        "def particion_categorica(df, target, var_discreta):\r\n",
        "  \"\"\"\r\n",
        "  Genera un dataframe con información sobre la partición utilizando la variable\r\n",
        "  discreta binaria aportada.\r\n",
        "  \"\"\"\r\n",
        "  df_i = df.groupby([var_discreta,target])[df_resumen_i.columns[0]].agg(['count']).reset_index()\r\n",
        "  df_i = df_i.sort_values(var_discreta, ascending=True).reset_index(drop=True)\r\n",
        "  return gini(df_i)"
      ],
      "execution_count": null,
      "outputs": []
    },
    {
      "cell_type": "markdown",
      "metadata": {
        "id": "Yr0XMPnaCaRN"
      },
      "source": [
        "### 030104 Cuál es la mejor partición?"
      ]
    },
    {
      "cell_type": "code",
      "metadata": {
        "id": "qxM8qZIFk7E-"
      },
      "source": [
        "def mejor_particion_continua(df, target, var_continua):\r\n",
        "  \"\"\"\r\n",
        "  Devuelve un dataframe con información sobre la partición ópitma de entre las \r\n",
        "  posibles utilizando la variable continua aportada.\r\n",
        "  \"\"\"\r\n",
        "  valores_unicos_ordenados = df[var_continua].sort_values().unique()\r\n",
        "  valores_particiones = (valores_unicos_ordenados[:-1] + \r\n",
        "                         valores_unicos_ordenados[1:])/2\r\n",
        "  particion_optima = []\r\n",
        "\r\n",
        "  for i, valor in enumerate(valores_particiones):\r\n",
        "    df_i = df.copy(deep=True)\r\n",
        "    filtro_i = df_i[var_continua] > valor\r\n",
        "    df_i[str(var_continua) + ' > ' + str(valor)] = filtro_i.astype(int)\r\n",
        "    df_i = particion_categorica(df_i, \r\n",
        "                                target, \r\n",
        "                                str(var_continua) + ' > ' + str(valor))\r\n",
        "\r\n",
        "    if i == 0:\r\n",
        "      particion_optima = df_i\r\n",
        "    else:\r\n",
        "      if df_i['Gini Media Pond'][0] < particion_optima['Gini Media Pond'][0]:\r\n",
        "        particion_optima = df_i\r\n",
        "    \r\n",
        "  return particion_optima"
      ],
      "execution_count": null,
      "outputs": []
    },
    {
      "cell_type": "code",
      "metadata": {
        "id": "svk6dvlGlWus"
      },
      "source": [
        "mejor_particion_continua(df_resumen, 'Salud Feto', 'Base')"
      ],
      "execution_count": null,
      "outputs": []
    },
    {
      "cell_type": "code",
      "metadata": {
        "id": "i0b3am-e_p6K"
      },
      "source": [
        "mejor_particion_continua(df_resumen, 'Salud Feto', 'Acc')"
      ],
      "execution_count": null,
      "outputs": []
    },
    {
      "cell_type": "code",
      "metadata": {
        "id": "Wt9d2l3Vm3VK"
      },
      "source": [
        "mejor_particion_continua(df_resumen, 'Salud Feto', 'Mov')"
      ],
      "execution_count": null,
      "outputs": []
    },
    {
      "cell_type": "code",
      "metadata": {
        "id": "LZunZWMpGhg6"
      },
      "source": [
        "def seleccion_particion(df, target, lista_vars_continuas, lista_vars_binarias):\r\n",
        "  particion_optima = []\r\n",
        "\r\n",
        "  for i, var in enumerate(lista_vars_continuas+lista_vars_binarias):\r\n",
        "    if var in lista_vars_continuas:\r\n",
        "      df_i = mejor_particion_continua(df, target, var)\r\n",
        "    if var in lista_vars_binarias:\r\n",
        "      df_i = particion_categorica(df,  target, var)\r\n",
        "    \r\n",
        "\r\n",
        "    if i == 0:\r\n",
        "      particion_optima = df_i\r\n",
        "    else:\r\n",
        "      if df_i['Gini Media Pond'][0] < particion_optima['Gini Media Pond'][0]:\r\n",
        "        particion_optima = df_i\r\n",
        "    \r\n",
        "  return particion_optima"
      ],
      "execution_count": null,
      "outputs": []
    },
    {
      "cell_type": "code",
      "metadata": {
        "id": "8_uKIpZEHlX7"
      },
      "source": [
        "seleccion_particion(df_resumen, 'Salud Feto', ['Base', 'Acc', 'Mov'], [])"
      ],
      "execution_count": null,
      "outputs": []
    },
    {
      "cell_type": "markdown",
      "metadata": {
        "id": "mjWxs5R_FxEH"
      },
      "source": [
        "## 0302 Construímos las ramas\r\n",
        "Vamos a contruír el resto del árbol sin repetir variables."
      ]
    },
    {
      "cell_type": "code",
      "metadata": {
        "id": "OEo0D52qCmbs"
      },
      "source": [
        "# Realizamos la partición\r\n",
        "df_resumen_1 = df_resumen[df_resumen['Acc']>0.0005]\r\n",
        "df_resumen_2 = df_resumen[df_resumen['Base']<0.0005]"
      ],
      "execution_count": null,
      "outputs": []
    },
    {
      "cell_type": "code",
      "metadata": {
        "id": "rSpVB-dVBX5O"
      },
      "source": [
        "df_resumen.columns"
      ],
      "execution_count": null,
      "outputs": []
    },
    {
      "cell_type": "markdown",
      "metadata": {
        "id": "W7WioeqWMbbF"
      },
      "source": [
        "### 030201 Rama Izquierda (1)"
      ]
    },
    {
      "cell_type": "code",
      "metadata": {
        "id": "KJnyLZRACmfc"
      },
      "source": [
        "# Siguiente partición\r\n",
        "seleccion_particion(df_resumen_1, 'Salud Feto', ['Base', 'Acc', 'Mov'], [])"
      ],
      "execution_count": null,
      "outputs": []
    },
    {
      "cell_type": "code",
      "metadata": {
        "id": "DUa4pGiZI_AF"
      },
      "source": [
        "# Realizamos la siguiente partición\r\n",
        "df_resumen_1_1 = df_resumen[((df_resumen['Acc']>0.0005)&(df_resumen['Acc']>0.0025))]\r\n",
        "df_resumen_1_2 = df_resumen[((df_resumen['Acc']>0.0005)&(df_resumen['Acc']<0.0025))]"
      ],
      "execution_count": null,
      "outputs": []
    },
    {
      "cell_type": "code",
      "metadata": {
        "id": "7AkXkkPKJPmz"
      },
      "source": [
        "# Siguiente partición\r\n",
        "seleccion_particion(df_resumen_1_1, 'Salud Feto', ['Base', 'Acc', 'Mov'], [])"
      ],
      "execution_count": null,
      "outputs": []
    },
    {
      "cell_type": "code",
      "metadata": {
        "id": "pI2rXQiDJT6H"
      },
      "source": [
        "# Siguiente partición\r\n",
        "seleccion_particion(df_resumen_1_2, 'Salud Feto', ['Base', 'Acc', 'Mov'], [])"
      ],
      "execution_count": null,
      "outputs": []
    },
    {
      "cell_type": "markdown",
      "metadata": {
        "id": "sRO6wMepPOJj"
      },
      "source": [
        "# 04 Construcción árbol de decisión con scikit learn\r\n",
        "Ahora de manera automática, utilizando la librería [scikit learn](https://scikit-learn.org/stable/), la libería básica de referencia para machine learning."
      ]
    },
    {
      "cell_type": "markdown",
      "metadata": {
        "id": "SXSNgNJrsdva"
      },
      "source": [
        "## 0401 Importamos las librerías"
      ]
    },
    {
      "cell_type": "code",
      "metadata": {
        "id": "dpc44ulgPFkN"
      },
      "source": [
        "# Nos importamos las funciones de árboles de scikit learn\r\n",
        "from sklearn import tree"
      ],
      "execution_count": null,
      "outputs": []
    },
    {
      "cell_type": "markdown",
      "metadata": {
        "id": "H9WKeVmAv89P"
      },
      "source": [
        "## 0402 Inicializamos el árbol\r\n",
        "Definiendo las características que tendrá.\r\n",
        "\r\n",
        "https://scikit-learn.org/stable/modules/generated/sklearn.tree.DecisionTreeClassifier.html#sklearn.tree.DecisionTreeClassifier"
      ]
    },
    {
      "cell_type": "code",
      "metadata": {
        "id": "c_yzGJ-UP6wq"
      },
      "source": [
        "# Inicializamos un árbol. Por ahora está vacío. \r\n",
        "# Solo definimos cómo queremos que sea en cuanto a su estructura y condiciones de entrenamiento\r\n",
        "arbol = tree.DecisionTreeClassifier(max_depth=3)\r\n",
        "arbol"
      ],
      "execution_count": null,
      "outputs": []
    },
    {
      "cell_type": "markdown",
      "metadata": {
        "id": "1_Q84Q2GJjDC"
      },
      "source": [
        "## 0403 Entrenamos el modelo\r\n",
        "Una vez inicializado y definido el árbol, el método .[fit()](https://scikit-learn.org/stable/modules/generated/sklearn.tree.DecisionTreeClassifier.html#sklearn.tree.DecisionTreeClassifier.fit) realiza el proceso de particionado recursivo que hemos hecho nosotros antes a mano."
      ]
    },
    {
      "cell_type": "code",
      "metadata": {
        "id": "QzlRebscRxCe"
      },
      "source": [
        "# Entrenamos el árbol inicializado a partir de los datos que le pasemos con .fit()\r\n",
        "arbol = arbol.fit(X = df_resumen[['Base', 'Acc', 'Mov']],  # vars descriptivas\r\n",
        "                  y = df_resumen[['Salud Feto']])                  # var objetico\r\n",
        "arbol"
      ],
      "execution_count": null,
      "outputs": []
    },
    {
      "cell_type": "markdown",
      "metadata": {
        "id": "akjuRe9yLQ8R"
      },
      "source": [
        "##0404 Visualizamos el modelo\r\n",
        "Una vez entrenado el modelo, podemos visualizarlo."
      ]
    },
    {
      "cell_type": "code",
      "metadata": {
        "id": "23xmBvxkRFsq"
      },
      "source": [
        "# Con el método export_text en un print()\r\n",
        "esquema_print = tree.export_text(arbol, \r\n",
        "                                 feature_names= ['Base', 'Acc', 'Mov'])\r\n",
        "print(esquema_print)"
      ],
      "execution_count": null,
      "outputs": []
    },
    {
      "cell_type": "code",
      "metadata": {
        "id": "mcJgYPAMQSNG"
      },
      "source": [
        "# O con la librería graphviz\r\n",
        "import graphviz \r\n",
        "\r\n",
        "# Export_graphviz\r\n",
        "dot_data = tree.export_graphviz(arbol, \r\n",
        "                                out_file=None, \r\n",
        "                                feature_names= ['Base', 'Acc', 'Mov']) \r\n",
        "graph = graphviz.Source(dot_data) \r\n",
        "graph"
      ],
      "execution_count": null,
      "outputs": []
    },
    {
      "cell_type": "markdown",
      "metadata": {
        "id": "WYs1eiOgMKWU"
      },
      "source": [
        "## 0405 Realizamos una predicción\r\n",
        "Una vez el modelo está entrenado (definido) podemos pasarle datos para obtener las prediciones correspondientes de la variable objetivo. \r\n",
        "\r\n",
        "Para esto utilizamos el método .[predict()](https://scikit-learn.org/stable/modules/generated/sklearn.tree.DecisionTreeClassifier.html#sklearn.tree.DecisionTreeClassifier.predict)."
      ]
    },
    {
      "cell_type": "code",
      "metadata": {
        "id": "acmqdf6ByLdw"
      },
      "source": [
        "# Predicción\r\n",
        "prediccion = arbol.predict(df_resumen[['Base', 'Acc', 'Mov']])\r\n",
        "prediccion"
      ],
      "execution_count": null,
      "outputs": []
    },
    {
      "cell_type": "code",
      "metadata": {
        "id": "3cMYHbiDyRPW"
      },
      "source": [
        "# Cómo de buena es la predicción?\r\n",
        "from sklearn.metrics import accuracy_score\r\n",
        "accuracy_score(df_resumen['Salud Feto'], prediccion)"
      ],
      "execution_count": null,
      "outputs": []
    },
    {
      "cell_type": "markdown",
      "metadata": {
        "id": "OOwjE0vpVDAV"
      },
      "source": [
        "# 05 EJERCICIO\r\n",
        "Entrena un árbol de decisión con todas las variables del set de datos de salud del feto, y evalua si la predicción es mejor o peor que utilizando tres variables (que es lo que acabamos de hacer en la sección anterior).\r\n",
        "\r\n",
        "Hazlo primero manteniendo una profundidad de 3 como en el ejemplo anterior y luego prueba también con 5 y 20."
      ]
    },
    {
      "cell_type": "code",
      "metadata": {
        "id": "IA-sUogXVhQo"
      },
      "source": [
        "df.head(2)"
      ],
      "execution_count": null,
      "outputs": []
    },
    {
      "cell_type": "code",
      "metadata": {
        "id": "IBrIrI1FmzuS"
      },
      "source": [
        "df.columns"
      ],
      "execution_count": null,
      "outputs": []
    },
    {
      "cell_type": "code",
      "metadata": {
        "id": "ayeaAVKLVBzE"
      },
      "source": [
        "# Inicializamos un árbol. Por ahora está vacío. Solo definimos cómo queremos que sea.\r\n",
        "arbol_3 = tree.DecisionTreeClassifier(max_depth=3)\r\n",
        "arbol_5 = tree.DecisionTreeClassifier(max_depth=5)\r\n",
        "arbol_20 = tree.DecisionTreeClassifier(max_depth=20)"
      ],
      "execution_count": null,
      "outputs": []
    },
    {
      "cell_type": "code",
      "metadata": {
        "id": "JtLHTyK163Aw"
      },
      "source": [
        "# Matrices de datos\r\n",
        "cols = ['baseline value', 'accelerations', 'fetal_movement',\r\n",
        "       'uterine_contractions', 'light_decelerations', 'severe_decelerations',\r\n",
        "       'prolongued_decelerations', 'abnormal_short_term_variability',\r\n",
        "       'mean_value_of_short_term_variability',\r\n",
        "       'percentage_of_time_with_abnormal_long_term_variability',\r\n",
        "       'mean_value_of_long_term_variability', 'histogram_width',\r\n",
        "       'histogram_min', 'histogram_max', 'histogram_number_of_peaks',\r\n",
        "       'histogram_number_of_zeroes', 'histogram_mode', 'histogram_mean',\r\n",
        "       'histogram_median', 'histogram_variance', 'histogram_tendency']\r\n",
        "X = df[cols]\r\n",
        "y = df['fetal_health']"
      ],
      "execution_count": null,
      "outputs": []
    },
    {
      "cell_type": "code",
      "metadata": {
        "id": "s9yle38RS-DP"
      },
      "source": [
        "# Entrenamos los árboles inicializados a partir de los datos que le pasemos con .fit()\r\n",
        "arbol_3 = arbol_3.fit(X = X, y = y)\r\n",
        "arbol_5 = arbol_5.fit(X = X, y = y)\r\n",
        "arbol_20 = arbol_20.fit(X = X, y = y)"
      ],
      "execution_count": null,
      "outputs": []
    },
    {
      "cell_type": "code",
      "metadata": {
        "id": "-w4XaJn9VqRY"
      },
      "source": [
        "# Podemos visualizar la estructura\r\n",
        "print(tree.export_text(arbol_3, \r\n",
        "                       feature_names=list(X.columns)))"
      ],
      "execution_count": null,
      "outputs": []
    },
    {
      "cell_type": "code",
      "metadata": {
        "id": "gBJ5sZH_nZFK"
      },
      "source": [
        "# Podemos visualizar la estructura\r\n",
        "print(tree.export_text(arbol_5, \r\n",
        "                       feature_names=list(X.columns)))"
      ],
      "execution_count": null,
      "outputs": []
    },
    {
      "cell_type": "code",
      "metadata": {
        "id": "dZc4ejfOV7oX"
      },
      "source": [
        "import graphviz \r\n",
        "dot_data = tree.export_graphviz(arbol_5, \r\n",
        "                                out_file=None, \r\n",
        "                                feature_names=list(X.columns)) \r\n",
        "graph = graphviz.Source(dot_data) \r\n",
        "graph"
      ],
      "execution_count": null,
      "outputs": []
    },
    {
      "cell_type": "code",
      "metadata": {
        "id": "N-0NlQ6xV-b4"
      },
      "source": [
        "# Predicción\r\n",
        "prediccion_3 = arbol_3.predict(X)\r\n",
        "prediccion_5 = arbol_5.predict(X)\r\n",
        "prediccion_20 = arbol_20.predict(X)"
      ],
      "execution_count": null,
      "outputs": []
    },
    {
      "cell_type": "code",
      "metadata": {
        "id": "MRlWh4DzXdnD"
      },
      "source": [
        "# Precisión de la predicción\r\n",
        "print('Precisión de arbol depth=3 es de ',accuracy_score(y, prediccion_3))\r\n",
        "print('Precisión de arbol depth=5 es de ',accuracy_score(y, prediccion_5))\r\n",
        "print('Precisión de arbol depth=20 es de ',accuracy_score(y, prediccion_20))"
      ],
      "execution_count": null,
      "outputs": []
    }
  ]
}